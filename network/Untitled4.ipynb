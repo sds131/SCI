{
 "cells": [
  {
   "cell_type": "code",
   "execution_count": 1,
   "metadata": {},
   "outputs": [],
   "source": [
    "import easygraph as eg\n",
    "import csv\n",
    "import pandas as pd\n",
    "\n",
    "\n",
    "def make_graph(journal:str,time:list):\n",
    "    G=eg.Graph()\n",
    "    nodes=[]\n",
    "    nodes_attr=[]\n",
    "    edges=[]\n",
    "    edges_attr=[]\n",
    "    f=open('faculty-coauthors.csv','r')\n",
    "    next(f)\n",
    "    csv_reader=csv.reader(f)\n",
    "    for row in csv_reader:\n",
    "        if(int(row[6]) in time and str(row[7])==journal):\n",
    "            i=str(row[0])\n",
    "            i_affifiation=str(row[1])\n",
    "            i_country=str(row[2])\n",
    "            j=str(row[3])\n",
    "            j_affifiation=str(row[4])\n",
    "            j_country=str(row[5])\n",
    "            year=int(row[6])\n",
    "            area=str(row[7])\n",
    "\n",
    "            nodes.append(i)\n",
    "            temp1={}\n",
    "            temp1['affiliation']=i_affifiation\n",
    "            temp1['country']=i_country\n",
    "            nodes_attr.append(temp1)\n",
    "\n",
    "            nodes.append(j)\n",
    "            temp2={}\n",
    "            temp2['affiliation']=j_affifiation\n",
    "            temp2['country']=j_country\n",
    "            nodes_attr.append(temp2)\n",
    "\n",
    "            edges.append((i,j))\n",
    "            temp3={}\n",
    "            temp3['year']=year\n",
    "            temp3['area']=area\n",
    "            edges_attr.append(temp3)\n",
    "\n",
    "    G.add_nodes(nodes,nodes_attr)\n",
    "    G.add_edges(edges,edges_attr)\n",
    "    return G\n",
    "\n"
   ]
  },
  {
   "cell_type": "code",
   "execution_count": 2,
   "metadata": {},
   "outputs": [],
   "source": [
    "# draw weight journal year\n",
    "# 14-21 18-21 99-21\n",
    "# tcss tsc socnet\n",
    "# country\n",
    "\n",
    "time=[2014,2015,2016,2017,2018,2019,2020,2021]\n",
    "G1=make_graph('tcss',time)\n",
    "\n",
    "time=[2018,2019,2020,2021]\n",
    "G2=make_graph('tsc',time)\n",
    "\n",
    "time=[1999,2000,2001,2002,2003,2004,2005,2006,2007,2008,2009,2010,2011,2012,2013,2014,2015,2016,2017,2018,2019,2020,2021]\n",
    "G3=make_graph('socnet',time)"
   ]
  },
  {
   "cell_type": "code",
   "execution_count": 3,
   "metadata": {},
   "outputs": [
    {
     "name": "stdout",
     "output_type": "stream",
     "text": [
      "1283 202 1255\n"
     ]
    }
   ],
   "source": [
    "print(len(G1),len(G2),len(G3))"
   ]
  },
  {
   "cell_type": "code",
   "execution_count": 4,
   "metadata": {},
   "outputs": [
    {
     "name": "stdout",
     "output_type": "stream",
     "text": [
      "2552 362 1933\n"
     ]
    }
   ],
   "source": [
    "print(G1.size(),G2.size(),G3.size())"
   ]
  },
  {
   "cell_type": "code",
   "execution_count": 28,
   "metadata": {},
   "outputs": [],
   "source": [
    "import pandas as pd\n",
    "def degree_cdf(G1,G2):\n",
    "    D1=G1.degree()\n",
    "    D2=G2.degree()\n",
    "\n",
    "    data=[]\n",
    "    for i in D1:\n",
    "        data.append(D1[i])\n",
    "    for i in G1.nodes:\n",
    "        if i not in D1:\n",
    "            data.append(0)\n",
    "    test=pd.DataFrame(data)\n",
    "    test.to_csv('/users/sds/downloads/degree1.csv')\n",
    "\n",
    "    data=[]\n",
    "    for i in D2:\n",
    "        data.append(D2[i])\n",
    "    for i in G2.nodes:\n",
    "        if i not in D2:\n",
    "            data.append(0)\n",
    "    test=pd.DataFrame(data)\n",
    "    test.to_csv('/users/sds/downloads/degree2.csv')\n",
    "\n",
    "degree_cdf(G1,G2)"
   ]
  },
  {
   "cell_type": "code",
   "execution_count": 29,
   "metadata": {},
   "outputs": [],
   "source": [
    "import networkx as nx\n",
    "\n",
    "Gn1=nx.Graph()\n",
    "for i in G1.edges:\n",
    "    (u,v,t)=i\n",
    "    Gn1.add_edge(u,v)\n",
    "\n",
    "Gn2=nx.Graph()\n",
    "for i in G2.edges:\n",
    "    (u,v,t)=i\n",
    "    Gn2.add_edge(u,v)"
   ]
  },
  {
   "cell_type": "code",
   "execution_count": 30,
   "metadata": {},
   "outputs": [],
   "source": [
    "def cc_cdf(Gn1,Gn2):\n",
    "    C1=[]\n",
    "    for i in Gn1.nodes:\n",
    "        k=nx.clustering(Gn1,i)\n",
    "        C1.append(k)\n",
    "    test=pd.DataFrame(C1)\n",
    "    test.to_csv('/users/sds/downloads/clustering_coefficient1.csv')\n",
    "\n",
    "    C2=[]\n",
    "    for i in Gn2.nodes:\n",
    "        k=nx.clustering(Gn2,i)\n",
    "        C2.append(k)  \n",
    "    test=pd.DataFrame(C2)\n",
    "    test.to_csv('/users/sds/downloads/clustering_coefficient2.csv')\n",
    "\n",
    "cc_cdf(Gn1,Gn2)"
   ]
  },
  {
   "cell_type": "code",
   "execution_count": 31,
   "metadata": {},
   "outputs": [],
   "source": [
    "def pr_cdf(Gn1,Gn2):\n",
    "    P1=nx.pagerank(Gn1,alpha=0.85)\n",
    "    data=[]\n",
    "    for i in P1:\n",
    "        data.append(P1[i])\n",
    "    test=pd.DataFrame(data)\n",
    "    test.to_csv('/users/sds/downloads/pagerank1.csv')\n",
    "\n",
    "    P2=nx.pagerank(Gn2,alpha=0.85)\n",
    "    data=[]\n",
    "    for i in P2:\n",
    "        data.append(P2[i])\n",
    "    test=pd.DataFrame(data)\n",
    "    test.to_csv('/users/sds/downloads/pagerank2.csv')    \n",
    "\n",
    "pr_cdf(Gn1,Gn2)"
   ]
  },
  {
   "cell_type": "code",
   "execution_count": 32,
   "metadata": {},
   "outputs": [],
   "source": [
    "def cc_cdf(Gn1,Gn2):\n",
    "    CC1=[len(c) for c in sorted(nx.connected_components(Gn1), key=len, reverse=True)]\n",
    "    cc1={\n",
    "        'size_of_cc':[]\n",
    "    }\n",
    "    for i in CC1:\n",
    "        cc1['size_of_cc'].append(i)\n",
    "    test=pd.DataFrame(cc1)\n",
    "    test.to_csv('/users/sds/downloads/connected_components1.csv')\n",
    "\n",
    "    CC2=[len(c) for c in sorted(nx.connected_components(Gn2), key=len, reverse=True)]\n",
    "    cc2={\n",
    "        'size_of_cc':[]\n",
    "    }\n",
    "    for i in CC2:\n",
    "        cc2['size_of_cc'].append(i)\n",
    "    test=pd.DataFrame(cc2)\n",
    "    test.to_csv('/users/sds/downloads/connected_components2.csv')\n",
    "\n",
    "cc_cdf(Gn1,Gn2)"
   ]
  },
  {
   "cell_type": "code",
   "execution_count": 33,
   "metadata": {},
   "outputs": [],
   "source": [
    "def pl_cdf(Gn1,Gn2):\n",
    "    LCC1=nx.Graph()\n",
    "    c=max(nx.connected_components(Gn1),key=len)\n",
    "    c=list(c)\n",
    "    LCC1=Gn1.subgraph(c).copy()\n",
    "\n",
    "    pl1={}\n",
    "    for i in LCC1.nodes:\n",
    "        for j in LCC1.nodes:\n",
    "            t=nx.shortest_path_length(LCC1,i,j)\n",
    "            if t!=0:\n",
    "                if t not in pl1:\n",
    "                    pl1[t]=1\n",
    "                else:\n",
    "                    pl1[t]+=1\n",
    "\n",
    "    LCC2=nx.Graph()\n",
    "    c=max(nx.connected_components(Gn2),key=len)\n",
    "    c=list(c)\n",
    "    LCC2=Gn2.subgraph(c).copy()\n",
    "\n",
    "    pl2={}\n",
    "    for i in LCC2.nodes:\n",
    "        for j in LCC2.nodes:\n",
    "            t=nx.shortest_path_length(LCC2,i,j)\n",
    "            if t!=0:\n",
    "                if t not in pl2:\n",
    "                    pl2[t]=1\n",
    "                else:\n",
    "                    pl2[t]+=1\n",
    "\n",
    "    PL1={\n",
    "        'path_length':[],\n",
    "        'num_of_path_length':[]\n",
    "    }\n",
    "    for i in pl1:\n",
    "        PL1['path_length'].append(i)\n",
    "        PL1['num_of_path_length'].append(pl1[i])\n",
    "    test=pd.DataFrame(PL1)\n",
    "    test.to_csv('/users/sds/downloads/path_length1.csv')\n",
    "\n",
    "    PL2={\n",
    "        'path_length':[],\n",
    "        'num_of_path_length':[]\n",
    "    }\n",
    "    for i in pl2:\n",
    "        PL2['path_length'].append(i)\n",
    "        PL2['num_of_path_length'].append(pl2[i])\n",
    "    test=pd.DataFrame(PL2)\n",
    "    test.to_csv('/users/sds/downloads/path_length2.csv')\n",
    "    \n",
    "pl_cdf(Gn1,Gn2)"
   ]
  },
  {
   "cell_type": "code",
   "execution_count": 34,
   "metadata": {},
   "outputs": [],
   "source": [
    "import pandas as pd\n",
    "\n",
    "\n",
    "def burt(G):\n",
    "    effective_size=eg.effective_size(G)\n",
    "    efficiency=eg.efficiency(G)\n",
    "    constraint=eg.constraint(G)\n",
    "    hierarchy=eg.hierarchy(G)\n",
    "    betweenness_centrality=eg.betweenness_centrality(G)\n",
    "\n",
    "    data={\n",
    "        'constraint':[],\n",
    "        'effective_size':[],\n",
    "        'efficiency':[],\n",
    "        'hierarchy':[],\n",
    "        'betweenness_centrality':[]\n",
    "    }\n",
    "\n",
    "    for i in G:\n",
    "        data['constraint'].append(float(constraint[i]))\n",
    "        data['effective_size'].append(float(effective_size[i]))\n",
    "        data['efficiency'].append(float(efficiency[i]))\n",
    "        data['hierarchy'].append(float(hierarchy[i]))\n",
    "        data['betweenness_centrality'].append(betweenness_centrality[i])\n",
    "        \n",
    "    return pd.DataFrame(data)\n",
    "    \n",
    "burt(G1).to_csv('/users/sds/downloads/burt1.csv')\n",
    "burt(G2).to_csv('/users/sds/downloads/burt2.csv')"
   ]
  },
  {
   "cell_type": "code",
   "execution_count": null,
   "metadata": {},
   "outputs": [],
   "source": [
    "# main country bar\n",
    "\n",
    "# degree\n",
    "# betweenness centrality\n",
    "# effective size\n",
    "# efficiency\n",
    "# constraint\n",
    "# hierarchy\n",
    "# clustering coefficient\n",
    "# page rank\n",
    "# top10\n",
    "# page length\n",
    "# robustness\n",
    "\n",
    "# country 国家内\n",
    "# country1 and country2 国家间"
   ]
  },
  {
   "cell_type": "code",
   "execution_count": 9,
   "metadata": {},
   "outputs": [
    {
     "name": "stdout",
     "output_type": "stream",
     "text": [
      "[('Tom A. B. Snijders', 0.07240001019171516), ('Johan H. Koskinen', 0.09495265220652463), ('Garry Robins', 0.09972988362037424), ('Stephen P. Borgatti', 0.10576644866134215), ('Peng Wang 0002', 0.11370029747631413), ('Alessandro Lomi', 0.1519283645443155), ('Christian Steglich', 0.1531670183031029), ('Philippa Pattison', 0.155036731425668), ('Filip Agneessens', 0.15508144231171206), ('Emmanuel Lazega', 0.16195703444716153), ('Christoph Stadtfeld', 0.17268818753396675), ('Giuseppe (Joe) Labianca', 0.18455047440575942), ('Patrick Doreian', 0.18900034293552812), ('Ulrik Brandes', 0.19607708786879477), ('Carter T. Butts', 0.1981156402951275), ('Christopher McCarty', 0.19906761138705215), ('Vincent Buskens', 0.2025303854875284), ('Carlo Morselli', 0.203125), ('Marijtje A. J. Van Duijn', 0.20461536280975792), ('René Veenstra', 0.20776303591340117), ('Thomas W. Valente', 0.21056348815384485), ('Noshir S. Contractor', 0.2107042011019284), ('Bruce A. Desmarais', 0.2113732993197279), ('Galina Daraganova', 0.21489234809570087), ('Martin Bouchard 0002', 0.21665787894375854), ('Rense Corten', 0.23002267573696142), ('Martin G. Everett', 0.2301095659013782), ('Pip Pattison', 0.2327674036281179), ('Mark Tranmer', 0.24001133786848078), ('Kathleen M. Carley', 0.24111748516047915), ('Robin I. M. Dunbar', 0.24197956034265553), ('Tobias H. Stark', 0.24213957759412302), ('Dean Lusher', 0.24562783446712014), ('Yang-chih Fu', 0.2492791355225218), ('José Luis Molina', 0.2510376361012725), ('David A. Rolls', 0.28059240362811794), ('Károly Takács', 0.2816343396862877), ('Jürgen Lerner', 0.28415774208710864), ('Zsófia Boda', 0.28462883379247017), ('David R. Schaefer', 0.2850651577503429), ('Eric Quintane', 0.286492546339158), ('Kayo Fujimoto', 0.28912598409770446), ('Sam G. B. Roberts', 0.29626842403628123), ('Francesca Pallotti', 0.2968272240025486), ('Anuska Ferligoj', 0.3035585455246913), ('András Vörös 0002', 0.308667513727254), ('Kayla de la Haye', 0.31686450090240176), ('Mark Handcock', 0.32010480331455504), ('John R. Hipp', 0.32136764311977983), ('Matthew E. Brashears', 0.3214351851851851), ('Per Block', 0.3277010334092314), ('John A. Schneider', 0.3285542889030612), ('Frank van Tubergen', 0.33072916666666663), ('Marcel A. L. M. van Assen', 0.3309567901234568), ('Miranda J. Lubbers', 0.3340032045876201), ('Rob Cross', 0.33483011937557394), ('David A. Bright', 0.3349729938271605), ('James Moody', 0.3351757369614512), ('Bernie Hogan', 0.3356004648760331), ('Katherine Faust', 0.3383072916666667), ('Alex D. Stivala', 0.339062322845805), ('Margaret Hellard', 0.3426287689554989), ('Philippa E. Pattison', 0.3426287689554989), ('Rebecca Jenkinson', 0.3426287689554989), ('Emma McBryde', 0.3426287689554989), ('Rachel Sacks-Davis', 0.3426287689554989), ('Yuval Kalish', 0.34550918367346944), ('Beata Dávid', 0.3471724615772234), ('Ronald L. Breiger', 0.3516836734693877), ('John Skvoretz', 0.35310799273139015), ('Beate Völker', 0.3537924284297052), ('Paola Tubaro', 0.35498226701183444), ('Alberto Caimo', 0.3605555555555555), ('Giacomo Solano', 0.3670693877551021), ('Christina Salmivalli', 0.36739686659046267), ('Gijs Huitsing', 0.36739686659046267), ('Miia Sainio', 0.36739686659046267), ('John P. Boyd 0002', 0.3686342592592592), ('David Krackhardt', 0.36972701198290414), ('Gerhard G. Van De Bunt', 0.3703560250246548), ('Bas Hofstra', 0.37120045351473924), ('Esteban Moro', 0.3779195011337868), ('Christofer R. Edling', 0.38111111111111123), ('Ashton M. Verdery', 0.3834606481481482), ('Lindsay E. Young', 0.38418792517006795), ('Jacob T. N. Young', 0.38481652949245543), ('Daniel J. Brass', 0.3860777658451922), ('Rafael Wittek', 0.3887926595687584), ('Valentina Hlebec', 0.3911689814814815), ('Tore Opsahl', 0.3912082694133976), ('Andreas Flache', 0.39158378684807266), ('Gerald Mollenhorst', 0.39226899092970513), ('Andrew Parker 0003', 0.39255280073461885), ('Yen-Sheng Chiang', 0.39583333333333326), ('Benjamin W. Campbell', 0.3987859032501889), ('Barry Wellman', 0.40000000000000013), ('Christopher J. Cameron', 0.4000850340136054), ('Júlia Koltai', 0.400187074829932), ('Ken Sharpe', 0.4004884731670446), ('Adam Boessen', 0.4016165605392813), ('Brent Simpson', 0.40625), ('Daniel S. Halgin', 0.406903637488053), ('Dana L. Haynie', 0.40750385802469136), ('James Hollway', 0.40885627128778507), ('D. Wayne Osgood', 0.41029305240614755), ('Robert W. Faris', 0.4123799725651576), ('Lise Mounier', 0.41753256286982254), ('Duy Vu', 0.41940511621315196), ('Joshua E. Marineau', 0.42017836060043856), ('Daniel Maier', 0.4237434231505101), ('Annie Waldherr', 0.4237434231505101), ('Nicholas A. Christakis', 0.4237725264003673), ('Martin Watts', 0.4240317539052657), ('Bill Mitchell', 0.4240317539052657), ('Anthea Bill', 0.4240317539052657), ('Scott Baum', 0.42403175390526576), ('Javier Ávila', 0.42510083394239245), ('Diane Felmlee', 0.42621141975308635), ('John M. Light', 0.42637602880658426), ('Lars Leszczensky', 0.429338888888889), ('Skyler J. Cranmer', 0.4317877614008564), ('Ryan M. Acton', 0.4366869165023011), ('Michele L. Barnes', 0.4382000000000001), ('Matthew Hamilton', 0.43820000000000014), ('Eugene C. Johnsen', 0.4395551020408164), ('Daniele Mascia', 0.4413715512031259), ('Carlo Piccardi', 0.44277777777777766), ('Raffaele Vacca', 0.4429877551020409), ('Miranda Jessica Lubbers', 0.444326530612245), ('Paulette Lloyd', 0.44581618655692723), ('Petr Matous', 0.4478125), ('Christina Prell', 0.4478125), ('Jason M. Smith', 0.45135065684676084), ('Virginie Kidwell-Lopez', 0.45135065684676084), ('Patrizia Vecchi', 0.4530462556923596), ('Alina Lungeanu', 0.4532864152892562), ('Chiara Broccatelli', 0.4567933119069483), ('Joeri M. Mol', 0.4646749811035525), ('Beate Volker', 0.46680555555555553), ('Mark S. Handcock', 0.4702777777777779), ('Nial Friel', 0.47111111111111126), ('John Belchamber', 0.4753598198538673), ('Rocío Martínez-López', 0.4753598198538673), ('Rubén Lara', 0.4753598198538674), ('Giovanna Miritello', 0.4753598198538674), ('Christian E. G. Steglich', 0.4760062500000001), ('Hannah Schmid-Petri', 0.4766113077884215), ('Peter Miltner', 0.4766113077884215), ('Thomas Häussler', 0.47661130778842153), ('Barbara Pfetsch', 0.47661130778842153), ('Silke Adam', 0.47661130778842153), ('Ueli Reber', 0.47661130778842153), ('Francesco Calderoni', 0.47777777777777786), ('Guido Conaldi', 0.4808230583900227), ('David Melamed', 0.4863775510204082), ('Nicholas N. Nagle', 0.4882818832639347), ('Henk Flap', 0.4884916206065759), ('Marie Ouellet', 0.49151234567901236), ('Michael Schweinberger', 0.4916666666666667), ('Lea Ellwardt', 0.4923469387755101), ('Paul Nieuwbeerta', 0.4951335742630385), ('Robert Faris', 0.49583333333333346), ('Jonathon N. Cummings', 0.5), ('Noah E. Friedkin', 0.5), ('Yuguo Chen', 0.5), ('Eric Gladstone', 0.5), ('Paolo Parigi', 0.5), ('Weihua An', 0.5), ('Balázs Kovács', 0.5), ('Mark S. Mizruchi', 0.5), ('Wayne E. Baker', 0.5), ('Scott L. Feld', 0.5), ('Claude S. Fischer', 0.5), ('Emily Smith', 0.5018519888231427), ('Patrick Janulis', 0.505125321395776), ('Michelle Birkett', 0.505125321395776), ('Gregory Lee Phillips II', 0.505125321395776), ('Jeffrey A. Smith', 0.506235827664399), ('Germà Coenders', 0.51), ('Vladimir Batagelj', 0.5106524348422495), ('Vincenz Frey', 0.5110153691106072), ('David Willer', 0.5123456790123456), ('Ines Lindner', 0.5133333333333334), ('Francisco I. Bastos', 0.5133333333333334), ('Derek Kreager', 0.5135459533607681), ('Petter Holme', 0.5211111111111111), ('H. Russell Bernard', 0.5234734693877552), ('Phillip Schumm', 0.5242346938775511), ('Michal Bojanowski', 0.5299999999999999), ('Ariana Need', 0.5300000000000001), ('Volker Stocké', 0.5300000000000001), ('Brea L. Perry', 0.5300000000000001), ('Yanjie Bian', 0.5329861111111112), ('James H. Fowler', 0.5347222222222222), ('Ronald S. Burt', 0.5347222222222222), ('Barbara Entwisle', 0.5364555555555557), ('Ronald R. Rindfuss', 0.5364555555555557), ('Aili Malm', 0.5502777777777778), ('Peter Elliott', 0.5526204648526077), ('Jodie Woolcock', 0.5526204648526077), ('Domenico De Stefano', 0.5541666666666667), ('Peter van der Laan', 0.5563716553287983), ('Anja Dirkzwager', 0.5563716553287983), ('Ruben De Cuyper', 0.5563716553287983), ('Dawn Iacobucci', 0.558641975308642), ('Srinivas K. Reddy', 0.558641975308642), ('Alain Degenne', 0.558641975308642), ('Claire Bidart', 0.558641975308642), ('Vanina Jasmine Torló', 0.5592719184027777), ('Jooske T. van Busschbach', 0.5592719184027777), ('Katrien Fransen', 0.5601851851851852), ('Norbert Vanbeselaere', 0.5601851851851852), ('Gert Vande Broek', 0.5601851851851852), ('Stef Van Puyenbroeck', 0.5601851851851852), ('Filip Boen', 0.5601851851851852), ('Todd M. Loughead', 0.5601851851851852), ('Bert De Cuyper', 0.5601851851851852), ('Mark Huisman', 0.5612604127299068), ('Robert W. Krause', 0.5612604127299068), ('Kimberly M. Davidson', 0.5618998628257887), ('Michael D. Siciliano', 0.5625), ('Tina Kogovsek', 0.5651171875000001), ('Linton C. Freeman', 0.5707644628099173), ('Fruzsina Albert', 0.5718027210884353), ('Cheng Wang 0010', 0.5761406284242823), ('Cynthia M. Lakon', 0.5761406284242823), ('Rupa Jose', 0.5761406284242823), ('Nahomi Ichino', 0.5765877551020409), ('Hsuan-Wei Lee', 0.5765877551020409), ('Jake Bowers', 0.5765877551020409), ('Mark Frederickson', 0.5765877551020409), ('Simi Wang', 0.5765877551020409), ('Nicholas M. Harrigan', 0.5769306243207342), ('Andrej Mrvar', 0.5829903978052127), ('Camille Roth', 0.5833333333333333), ('Laura M. Koehly', 0.5833333333333333), ('Andreas Herz', 0.5833333333333333), ('Sara Gorgoni', 0.5834661989795918), ('Bruce Cronin', 0.5834661989795918), ('Rozemarijn van der Ploeg', 0.5845104570753921), ('Aditya S. Khanna', 0.5922696109693878), ('Arthi Ramachandran', 0.5922696109693878), ('Catherine T. Shea', 0.5939555555555557), ('Tanya Menon', 0.5939555555555557), ('John Domini', 0.5948182397959183), ('Gene A. Shelley', 0.5948182397959183), ('Brigham S. Anderson', 0.5985828037110088), ('Hein de Vries', 0.60143310546875), ('Erkki Vartiainen', 0.60143310546875), ('Liesbeth Mercken', 0.60143310546875), ('Carlene Wilson', 0.6047178130511464), ('Philip Mohr', 0.6047178130511464), ('Shankar Bhamidi', 0.604751275510204), ('James D. Wilson', 0.604751275510204), ('Matthew J. Denny', 0.604751275510204), ('David Schoch', 0.6061626364656667), ('Thomas V. Pollet', 0.6068518518518518), ('Toon Kuppens', 0.6068518518518518), ('Zachary P. Neal', 0.6069000000000001), ('Jennifer Watling Neal', 0.6069000000000001), ('Anke Munniksma', 0.6079166666666667), ('Flaminio Squazzoni', 0.6111111111111112), ('Nicholas Harrigan', 0.6111111111111112), ('jimi adams', 0.6111111111111112), ('Phillip Bonacich', 0.6111111111111112), ('Alessandro Spelta', 0.6111111111111112), ('Olaf N. Rank', 0.6111111111111112), ('Michael J. Brusco', 0.6111111111111112), ('Tracy M. Sweet', 0.6111111111111112), ('Eric J. Neuman', 0.6111111111111112), ('Andrew V. Papachristos', 0.6111111111111112), ('Gina Lai', 0.6111111111111112), ('Mario Luis Small', 0.6111111111111112), ('Theo van Tilburg', 0.6111111111111112), ('Zhi Huang', 0.6135215794306703), ('Tomas Diviak', 0.6222993827160493), ('James A. Coutinho', 0.6222993827160493), ('Anja Znidarsic', 0.625048225308642), ('Chih-Ping Chou', 0.625048225308642), ('Stephen J. Walsh', 0.6255859374999999), ('Yothin Sawangdee', 0.6255859374999999), ('Jochem Tolsma', 0.6259597234976022), ('Ioana van Deurzen', 0.6259597234976022), ('Sandra González-Bailón', 0.6269555555555556), ('Javier Borge-Holthoefer', 0.6269555555555557), ('Yamir Moreno', 0.6269555555555557), ('Tobias Heinrich', 0.6272675736961452), ('Laura D. Hanish', 0.6276041666666666), ('Richard A. Fabes', 0.6276041666666666), ('Carol Lynn Martin', 0.6276041666666666), ('Thomas J. Fararo', 0.6302186061801447), ('Margaret Kerr', 0.63104248046875), ('William J. Burk', 0.63104248046875), ('Håkan Stattin', 0.63104248046875), ('Paulina Preciado', 0.63104248046875), ('Tom Decorte', 0.6311979166666666), ('Marije Wouters', 0.6311979166666666), ('Marieke Vlaemynck', 0.6311979166666666), ('Daniela Stoltenberg', 0.6328125), ('Maria Prosperina Vitale', 0.6338888888888888), ('Jennifer B. Unger', 0.6379029492455417), ('Daniel W. Soto', 0.6379029492455417), ('Willem E. Saris', 0.6387499999999999), ('Werner Raub', 0.6423456790123456), ('Dennis Li', 0.646219135802469), ('Ming Cao 0005', 0.646219135802469), ('Mark E. Feinberg', 0.6463116496598639), ('Scott D. Gest', 0.6463116496598639), ('Wendy D. Brynildsen', 0.6463116496598639), ('Gerald C. Kane', 0.6469897959183672), ('Valerio Leone Sciabolazza', 0.6469897959183672), ('Mark House', 0.6469897959183672), ('Michael Macy', 0.6474277210884354), ('Paola Velardi', 0.6480000000000001), ('Giovanni Stilo', 0.6480000000000001), ('Mauro Gatti', 0.6480000000000001), ('Ajay Mehra', 0.6480000000000001), ('Giorgia Di Tommaso', 0.6480000000000001), ('Michela Iannotta', 0.6480000000000001), ('Maoguo Gong', 0.6480000000000001), ('Haifeng Du', 0.6480000000000001), ('Qiguang Miao', 0.6480000000000001), ('Lijia Ma', 0.6480000000000001), ('Wei Du 0004', 0.6480000000000001), ('Shanfeng Wang', 0.6480000000000001), ('Yoshi Fujiwara', 0.6480000000000001), ('Abhijit Chakraborty', 0.6480000000000001), ('Masaaki Terai', 0.6480000000000001), ('Hazem Krichene', 0.6480000000000001), ('Hiroyasu Inoue', 0.6480000000000001), ('Yoshiyuki Arata', 0.6480000000000001), ('Kimmo Kaski', 0.6480000000000001), ('Jari Saramäki', 0.6480000000000001), ('Jukka-Pekka Onnela', 0.6480000000000001), ('Mikko Kivelä', 0.6480000000000001), ('Riitta Toivonen', 0.6480000000000001), ('Lauri Kovanen', 0.6480000000000001), ('Francis Tuerlinckx', 0.6480000000000001), ('Koen Vanbrabant', 0.6480000000000001), ('Evelien Demaerschalk', 0.6480000000000001), ('An Boeren', 0.6480000000000001), ('Johan Braeken', 0.6480000000000001), ('Peter Kuppens', 0.6480000000000001), ('Vicki Stover Hertzberg', 0.6480000000000001), ('Douglas W. Lowery-North', 0.6480000000000001), ('C. Christina Mehta', 0.6480000000000001), ('George Cotsonis', 0.6480000000000001), ('Lisa K. Elon', 0.6480000000000001), ('Jason Baumgardner', 0.6480000000000001), ('Pál Czobor', 0.6480000000000001), ('Péter Soltész', 0.6480000000000001), ('Zsolt Unoka', 0.6480000000000001), ('Eszter Berán', 0.6480000000000001), ('Anna Rácz', 0.6480000000000001), ('Csaba Pléh', 0.6480000000000001), ('Mariarosaria Lombardi', 0.6480000000000001), ('Antonio Stasi', 0.6480000000000001), ('Antonio Lopolito', 0.6480000000000001), ('Enrica Iannuzzi', 0.6480000000000001), ('Angela Mariuccia Andriano', 0.6480000000000001), ('Maurizio Prosperi', 0.6480000000000001), ('Ildikó Barna', 0.6486660507824529), ('Eva Huszti', 0.6486660507824529), ('Emma S. Spiro', 0.6499408284023669), ('Pablo Piedrahíta', 0.6533333333333333), ('Brian S. Mustanski', 0.6533333333333333), ('Rebecca Nash', 0.6534027777777778), ('Krista Gile', 0.6534027777777778), ('Arnout van de Rijt', 0.6565432098765431), ('Gönül Dogan', 0.6565432098765431), ('William J. Fitzgerald 0002', 0.6597222222222221), ('Giancarlo Ragozini', 0.6602777777777776), ('Hugo Valenzuela-García', 0.6625000000000001), ('Rafaël Stofer', 0.6633851997954561), ('Marie-Thérèse Jourda', 0.6633851997954561), ('Maurits de Klepper', 0.6633851997954561), ('Ed Sleebos', 0.6633851997954561), ('Jesper J. Rözer', 0.6641358024691357), ('Eric Schoon', 0.6664604591836735), ('R. Karl Rethemeyer', 0.6664604591836736), ('Victor Asal', 0.6664604591836736), ('Alejandro Rivero', 0.67046875), ('Ning Wang 0013', 0.6704687500000001), ('David D. Rowlee', 0.6716820987654321), ('Karin E. Willert', 0.6716820987654321), ('N. Lancki', 0.67640625), ('Lluís Coromina', 0.67640625), ('Barbara B. Brewer', 0.6780960648148148), ('Marge M. Benham-Hutchins', 0.6780960648148148), ('Jeffrey Reminga', 0.6780960648148148), ('Judith A. Effken', 0.6780960648148148), ('Cassie McMillan', 0.6805555555555557), ('Emily Hoagland', 0.6805555555555557), ('Kwan-Liu Ma', 0.6809375), ('Chris Muelder', 0.6809375), ('Tarik Crnovrsanin', 0.6809375), ('Viviana Amati', 0.6840277777777777), ('Cliff Lampe', 0.6865234375), ('Jessica Vitak', 0.6865234375), ('Brandon Brooks', 0.6865234375), ('Nicole B. Ellison', 0.6865234375), ('Béla Janky', 0.686530612244898), ('Dino P. Christenson', 0.6905381944444444), ('Janet M. Box-Steffensmeier', 0.6905381944444444), ('Zachary Navabi', 0.6959876543209876), ('Jason W. Morgan', 0.6959876543209876), ('Domenico Brunetto', 0.7002777777777778), ('Jennifer Lawlor', 0.7015624999999999), ('Kathryn McAlindon', 0.7015624999999999), ('Kristen J. Mills', 0.7015624999999999), ('László Lorincz', 0.7037238599143361), ('Anna Fruzsina Gyor', 0.7037238599143361), ('Andrea Röper', 0.70703125), ('Yen-Wen Chen', 0.7122395833333331), ('Chien-Te Wu', 0.7122395833333331), ('Chyi-In Wu', 0.7122395833333331), ('Wen-Chi Chuang', 0.7122395833333331), ('Karl E. Bauman', 0.7122395833333331), ('Vangie A. Foshee', 0.7122395833333331), ('Susan T. Ennett', 0.7122395833333331), ('Neil McRoberts', 0.7122395833333333), ('Marco T. Bastos', 0.7122395833333333), ('Mark Lubell', 0.7122395833333333), ('Michael Levy', 0.7122395833333333), ('Andrea M. Hussong', 0.7122395833333333), ('Vladimir Barash', 0.7171556122448979), ('Göran Kauermann', 0.7187654320987653), ('Stephanie Thiemichen', 0.7187654320987653), ('Jing-Shiang Hwang', 0.7187928669410151), ('Elise Cappella', 0.72), ('Robert J. Beck', 0.7309027777777779), ('Jukka Nyblom', 0.7310988674625039), ('Juha Roslakka', 0.7310988674625039), ('Mikko A. Salo', 0.7310988674625039), ('Djoerd Hiemstra', 0.7332812499999999), ('Tijs A. van den Broek', 0.7332812499999999), ('Anna Priante', 0.7332812499999999), ('Michel L. Ehrenhard', 0.7332812499999999), ('Michael Bosnjak', 0.7332812499999999), ('Henning Silber', 0.7332812499999999), ('Jette Schröder', 0.7332812499999999), ('Bella Struminskaya', 0.7332812499999999), ('Adam R. Roth', 0.7332812499999999), ('Evan Finley', 0.7332812499999999), ('Max E. Coleman', 0.7332812499999999), ('Siyun Peng', 0.7332812499999999), ('George Berry', 0.7362370874275634), ('Patrick Park', 0.7362370874275634), ('Zoltán Kmetty', 0.7362370874275634), ('Róbert Tardos', 0.7362370874275634), ('Mackenzie Hart', 0.7378472222222221), ('Julia Lee', 0.7402469135802467), ('Dongkyun Im', 0.7402469135802467), ('Kyle Emich', 0.7402469135802467), ('Edward Bishop Smith', 0.7402469135802467), ('Joris van der Veer', 0.7469444444444444), ('Vincent G. Moscardelli', 0.7471655328798186), ('Brian F. Schaffner', 0.7471655328798186), ('Michael S. Kowal', 0.7471655328798186), ('Philip A. Sinclair', 0.7471655328798186), ('Jo Holliday', 0.7471655328798186), ('Laurence Moore', 0.7471655328798186), ('Julien Brailly', 0.7506026736795968), ('Josiane Chatellet', 0.7506026736795968), ('Guillaume Favre', 0.7506026736795968), ('David A. Smith', 0.7515432098765431), ('Matthew C. Mahutga', 0.7515432098765431), ('Tso-Jung Yen', 0.7530864197530864), ('Thijs A. Velema', 0.7530864197530864), ('Valerio Arnaboldi', 0.7546296296296297), ('Andrea Passarella', 0.7546296296296297), ('Marco Conti', 0.7546296296296298), ('Dianne A. Van Hemert', 0.7546296296296298), ('Lotte Vermeij', 0.7546296296296298), ('Chris Baerveldt', 0.7546296296296298), ('Mark Hasegawa-Johnson', 0.7594123048668502), ('Marshall Scott Poole', 0.7594123048668502), ('Feniosky Peña-Mora', 0.7594123048668502), ('Xinghuo Yu 0001', 0.765625), ('Qingmai Wang', 0.765625), ('David Savage', 0.765625), ('Xiuzhen Zhang', 0.765625), ('Pauline Chou', 0.765625), ('Iain S. Weaver', 0.765625), ('Susan Banducci', 0.765625), ('Hywel T. P. Williams', 0.765625), ('Travis Coan', 0.765625), ('Iulia Cioroianu', 0.765625), ('Roy Lindelauf', 0.765625), ('Herbert Hamers', 0.765625), ('Peter Borm', 0.765625), ('Bart Husslage', 0.765625), ('Twan Burg', 0.765625), ('Andreas Wimmer', 0.765625), ('Marco Gonzalez', 0.765625), ('Kevin Lewis', 0.765625), ('Nicholas Christakis', 0.765625), ('Jason Kaufman', 0.765625), ('Kenneth A. Frank', 0.765625), ('Kathryn Schiller', 0.765625), ('Chandra Muller', 0.765625), ('Sam Field', 0.765625), ('Catherine Riegle-Crumb', 0.765625), ('Wim van den Noortgate', 0.765625), ('Chloé Meredith', 0.765625), ('Eva Kyndt', 0.765625), ('Sarah Gielen', 0.765625), ('Charlotte Struyve', 0.765625), ('Sangwon Suh', 0.765625), ('Shigemi Kagawa', 0.765625), ('Shunsuke Okamoto', 0.765625), ('Yasushi Kondo', 0.765625), ('Keisuke Nansai', 0.765625), ('Yuejin Tan', 0.765625), ('Peter Abell', 0.765625), ('Ofer Engel', 0.765625), ('Jun Wu 0004', 0.765625), ('Hongzhong Deng', 0.765625), ('Darren C. Treadway', 0.765625), ('Jacob W. Breland', 0.765625), ('Laura A. Williams', 0.765625), ('Garry L. Adams', 0.765625), ('Allison B. Duke', 0.765625), ('Adriana P. A. van Beek', 0.765625), ('Miel W. Ribbe', 0.765625), ('Peter P. Groenewegen', 0.765625), ('Dinnus H. M. Frijters', 0.765625), ('Cordula Wagner', 0.765625), ('Jonathan H. Morgan', 0.7709750566893423), ('Vittorio Fuccella', 0.7733950617283949), ('Susanna Zaccarin', 0.7733950617283949), ('Martina Morris', 0.7733950617283949), ('Jonathan Stewart', 0.7733950617283949), ('Yoshihisa Kashima', 0.78125), ('Leonie J. Pearson', 0.78125), ('Craig Pearson', 0.78125), ('Matthew Smith 0009', 0.78125), ('Sanne Smith', 0.78125), ('Ineke Maas', 0.78125), ('Hanno Kruse', 0.78125), ('Obaid Ali Al-Modaf', 0.78125), ('Mohammed Ben Said Al-Ghamdi', 0.78125), ('Nora F. Almosaed', 0.78125), ('Pamela Emanuelson', 0.7847222222222223), ('Eric Rice', 0.7928949357520785), ('Sze-Chuan Suen', 0.7928949357520785), ('Douglas D. Heckathorn', 0.7928949357520785), ('Antonio D. Sirianni', 0.7928949357520785), ('Yongren Shi', 0.7928949357520785), ('Milind Tambe', 0.7928949357520786), ('Fredrik Liljeros', 0.8044444444444444), (\"Maria Rosaria D'Esposito\", 0.8044444444444444), ('Vasja Vehovar', 0.808641975308642), ('Katja Lozar Manfreda', 0.808641975308642), ('Gasper Koren', 0.808641975308642), ('Sergio Chavez', 0.808641975308642), ('Ted Mouw', 0.808641975308642), ('Heather Edelblute', 0.808641975308642), ('J. C. Barnes', 0.808641975308642), ('Michael TenEyck', 0.808641975308642), ('Kevin M. Beaver', 0.808641975308642), ('Elisenda Molina', 0.8311111111111109), ('Maurice Koster', 0.8311111111111109), ('Ramón Flores', 0.8311111111111109), ('Peter D. Hoff', 0.831111111111111), ('Pavel N. Krivitsky', 0.831111111111111), ('Adrian E. Raftery', 0.831111111111111), ('Matthew J. Salganik', 0.831111111111111), ('Alexandre Hannud Abdo', 0.831111111111111), ('Dimitri Fazito', 0.831111111111111), ('Rosanna Grassi', 0.831111111111111), ('Monica Bianchi', 0.831111111111111), ('Anna Torriero', 0.831111111111111), ('Ling Heng Henry Wong', 0.8337673611111112), ('André F. Gygax', 0.8337673611111112), ('Pete Jones', 0.8337673611111112), ('Eithne Quinn', 0.8337673611111112), ('Holly B. Shakya', 0.8350694444444444), ('Sonja Opper', 0.8350694444444444), ('Valentyn Kalnysh', 0.8494897959183674), ('Yuri Kalnysh', 0.8494897959183674), ('Hans Waege', 0.8524408284023668), ('John Lievens', 0.8524408284023668), ('Mengxiao Zhu', 0.8600206611570247), ('Yun Huang 0001', 0.8600206611570247), ('Natalie Indlekofer', 0.8600206611570247), ('Martin Mader', 0.8600206611570247), ('Alistair G. Sutcliffe', 0.865), ('Jens F. Binder', 0.865), ('Klaus Hamberger', 0.8657407407407405), ('Arnaud Bringé', 0.8657407407407405), ('Floriana Gargiulo', 0.8657407407407405), ('Richard Heidler', 0.8657407407407405), ('Florian Eßer', 0.8657407407407405), ('Markus Gamper', 0.8657407407407405), ('Felix Reed-Tsochas', 0.8657407407407406), ('Jeffrey Lienert', 0.8657407407407406), ('Christopher Steven Marcum', 0.8657407407407406), ('Hsiu Man Chen', 0.871141975308642), ('Hwai-Chung Ho', 0.871141975308642), ('Masarah Paquet-Clouston', 0.87890625), ('Chloé Provost', 0.87890625), ('Cynthia Giguère', 0.87890625), ('Katia Petit', 0.87890625), ('Jeroen Weesie', 0.87890625), ('Sara Geven', 0.87890625), ('Mayukh Dass', 0.8888888888888888), ('Michel Grossetti', 0.8888888888888888), ('Neng Fan', 0.8890306122448979), ('Matthew Dabkowski', 0.8890306122448979), ('Dorothy Espelage', 0.8890306122448979), ('Marc Punkay', 0.8890306122448979), ('George G. Vega Yon', 0.8890306122448979), ('Andrew Slaughter', 0.8890306122448979), ('Lukas Norbutas', 0.8890306122448979), ('Stijn Ruiter', 0.8890306122448979), ('Isabella Gollini', 0.9027777777777779), ('Paolo Campana', 0.9027777777777779), ('Melissa A. Clark', 0.9027777777777779), ('Nancy P. Barnett', 0.9027777777777779), ('Caitlin E. Hughes', 0.9027777777777779), ('Jenny Chalmers', 0.9027777777777779), ('Florian Maire', 0.9225), ('Lampros Bouranis', 0.9225), ('Bernd Heidergott', 0.9225), ('Jia-Ping Huang', 0.9225), ('Yuri Takhteyev', 0.9225), ('Anatoliy A. Gruzd', 0.9225), ('Gabriele Plickert', 0.9225), ('Rochelle R. Côté', 0.9225), ('Louise Ryan', 0.9225), (\"Alessio D'Angelo\", 0.9225), ('Duy Quang Vu', 0.9225), ('Miruna Petrescu-Prahova', 0.9225), ('Marcelo Ribeiro-Alves', 0.9225), ('Sandro Sperandei', 0.9225), ('Jacob Hileman', 0.9225), ('Örjan Bodin', 0.9225), ('PingSun Leung', 0.9225), ('Kolter Kalberg', 0.9225), ('Daniel Z. Levin', 0.9225), ('Neha P. Shah', 0.9225), ('Amalya L. Oliver', 0.9225), ('Gad Yair', 0.9225), ('Sebastian Pink', 0.9225), ('David Kretschmer', 0.9225), ('Jens Rydgren', 0.9225), ('Martin Hällsten', 0.9225), ('Nitesh V. Chawla', 0.925925925925926), ('David Hachen', 0.925925925925926), ('Troy Raeder', 0.925925925925926), ('Omar Lizardo', 0.925925925925926), ('Jure Leskovec', 0.925925925925926), ('Daniel A. McFarland', 0.925925925925926), ('Dan J. Wang', 0.925925925925926), ('Xiaolin Shi', 0.925925925925926), ('Sara Y. Del Valle', 0.925925925925926), ('James Mac Hyman', 0.925925925925926), ('Stephen G. Eubank', 0.925925925925926), ('Herbert W. Hethcote', 0.925925925925926), ('John Bryden', 0.925925925925926), ('Nadine Tamburrini', 0.925925925925926), ('Marco Cinnirella', 0.925925925925926), ('Vincent A. A. Jansen', 0.925925925925926), ('Walter Quattrociocchi', 0.925925925925926), ('Fabiana Zollo', 0.925925925925926), ('Michela Del Vicario', 0.925925925925926), ('Guido Caldarelli', 0.925925925925926), ('Mineichi Kudo', 0.925925925925926), ('Sadamori Koujaku', 0.925925925925926), ('Hideyuki Imai', 0.925925925925926), ('Ichigaku Takigawa', 0.925925925925926), ('Kurt Hornik', 0.925925925925926), ('Christian Buchta', 0.925925925925926), ('Patrick Mair', 0.925925925925926), ('Angela Bohn', 0.925925925925926), ('Olga Kornienko', 0.925925925925926), ('Victor Agadjanian', 0.925925925925926), ('Natalia Zotova', 0.925925925925926), ('Cecilia Menjívar', 0.925925925925926), ('John Griffith', 0.925925925925926), ('Beth Molnar', 0.925925925925926), ('Kristin Lees Haggerty', 0.925925925925926), ('Jean McGuire', 0.925925925925926), ('Rosa M. Benito', 0.925925925925926), ('Alfredo Jose Morales', 0.925925925925926), ('Javier Borondo', 0.925925925925926), ('Juan Carlos Losada', 0.925925925925926), ('Xingqin Qi', 0.925925925925926), ('Zhulou Cao', 0.925925925925926), ('Jieting Cheng', 0.925925925925926), ('Min Fan', 0.925925925925926), ('Manuel Fischer', 0.925925925925926), ('Pascal Sciarini', 0.925925925925926), ('Frédéric Varone', 0.925925925925926), ('Roy Gava', 0.925925925925926), ('Beom Jun Kim', 0.925925925925926), ('Moo Young Choi', 0.925925925925926), ('Jeong-Yoo Kim', 0.925925925925926), ('Tackseung Jun', 0.925925925925926), ('Guillermo Owen', 0.925925925925926), ('Enrique González-Arangüena', 0.925925925925926), ('Mónica del Pozo', 0.925925925925926), ('Conrado Manuel', 0.925925925925926), ('Victor R. Prybutok', 0.925925925925926), ('Ami R. Moore', 0.925925925925926), ('Foster Amey', 0.925925925925926), ('Anh Ta', 0.925925925925926), ('Samuel Friedman', 0.925925925925926), ('Huso Yi', 0.925925925925926), ('Naomi Braine', 0.925925925925926), ('Caroline Acker', 0.925925925925926), ('Sang Eun Woo', 0.925925925925926), ('Michael Brzezinski', 0.925925925925926), ('Xiumei Zhu', 0.925925925925926), ('Caitlin Porter', 0.925925925925926), ('Jeffrey A. Hall', 0.925925925925926), ('K. Jean Forney', 0.925925925925926), ('Terrence D. Jorgensen', 0.925925925925926), ('Steven M. Giles', 0.925925925925926), ('Dante Contreras', 0.925925925925926), ('Juan D. Díaz', 0.925925925925926), ('Gabriel Otero', 0.925925925925926), ('Nicolás Suárez', 0.925925925925926), ('João R. Daniel', 0.925925925925926), ('Inês Peceguina', 0.925925925925926), ('António J. Santos', 0.925925925925926), ('Brian E. Vaughn', 0.925925925925926), ('John Sandberg', 0.925925925925926), ('Valérie Delaunay', 0.925925925925926), ('Adama S. Marra', 0.925925925925926), ('Steven Rytina', 0.925925925925926), ('Nick Crossley', 0.925925925925926), ('Gemma Edwards', 0.925925925925926), ('Ellen Harries', 0.925925925925926), ('Rachel Stevenson', 0.925925925925926), ('Murray Aitkin', 0.953125), ('Brian Francis', 0.953125), ('Günes Ertan', 0.953125), ('C. Deniz Yenigün', 0.953125), ('Eric W. Welch', 0.953125), ('Mary K. Feeney', 0.953125), ('Barry Markovsky', 0.953125), ('Mike Steketee', 0.953125), ('Corina Graif', 0.953125), ('Alyssa M. Yetter', 0.953125), ('Lei Zhang 0042', 0.953125), ('Xianbi Huang', 0.953125), ('Niccolò Casnici', 1.0), ('Eytan Adar', 1.0), ('Lada A. Adamic', 1.0), ('Weiguo Wang', 1.0), ('Dehai Liu', 1.0), ('Y. Narahari', 1.0), ('Ramasuri Narayanam', 1.0), ('Naoki Masuda', 1.0), ('Norio Konno', 1.0), ('Maarten Marx', 1.0), ('Michael Masuch', 1.0), ('Arunabha Sen', 1.0), ('Kaustav Basu', 1.0), ('George B. Davis', 1.0), ('Jennifer Golbeck', 1.0), ('Derek L. Hansen', 1.0), ('Cuihua Shen', 1.0), ('Wenhong Chen', 1.0), ('Monica C. Higgins', 1.0), ('Thomas Lux', 1.0), ('Karl Finger', 1.0), ('Sangick Jeon', 1.0), ('Peter A. Gloor', 1.0), ('Francesca Grippa', 1.0), ('James Pustejovsky', 1.0), ('James P. Spillane', 1.0), ('Stellan Ohlsson', 1.0), ('Siddhartha Bhattacharyya', 1.0), ('Miguel-Ángel Sicilia', 1.0), ('Marçal Mora Cantallops', 1.0), ('Massimo Franceschet', 1.0), ('Enrico Bozzo', 1.0), ('Chris Hankin', 1.0), ('Maria Grazia Vigliotti', 1.0), ('Yong Gao 0001', 1.0), ('James Nastos', 1.0), ('Arun Sundararajan', 1.0), ('Lauren Rhue', 1.0), ('Bogumil Kaminski', 1.0), ('Katarzyna Growiec', 1.0), ('Adam Goodie', 1.0), ('Mary Selden', 1.0), ('Benjamin Lubin', 1.0), ('Jesse Shore', 1.0), ('Miin-Shen Yang', 1.0), ('Jialin Hua', 1.0), ('Gerda Claeskens', 1.0), ('Eugen Pircalabelu', 1.0), ('Diana Mok', 1.0), ('Bettina Hoser', 1.0), ('Tanja Nitschke', 1.0), ('Lin Tao', 1.0), ('Andreas Geyer-Schulz', 1.0), ('Jeroen K. Vermunt', 1.0), ('Matthijs Kalmijn', 1.0), ('Gunnar Flötteröd', 1.0), ('Johannes Illenberger', 1.0), ('Alexander Gutfraind', 1.0), ('Michael Genkin', 1.0), ('Sarah K. Cowan', 1.0), ('Delia Baldassarri', 1.0), ('Tanya Araújo', 1.0), ('Sven Banisch', 1.0), ('Jean-Philippe Cointet', 1.0), ('Michael Bourgeois', 1.0), ('Nicolò Pecora', 1.0), ('Francis Lee', 1.0), ('Sean M. Fitzhugh', 1.0), ('Yunsong Chen', 1.0), ('Ian McCulloh', 1.0), ('Kerstin Sailer', 1.0), ('Avner Bar-Hen', 1.0), ('Robert P. Gilles', 1.0), ('René van den Brink', 1.0), ('Mark M. Fredrickson', 1.0), ('Daniel K. Sewell', 1.0), ('Mark Patrick Roeling', 1.0), ('Geoff K. Nicholls', 1.0), ('Brooke Foucault Welles', 1.0), ('Weiai Xu', 1.0), ('Robb Willer', 1.0), ('Simon DeDeo', 1.0), ('Ji Ma 0003', 1.0), ('José Luis Iribarren', 1.0), ('Laura Sartori', 1.0), ('Charles J. Gomez', 1.0), ('Pietro Panzarasa', 1.0), ('Lijun Song', 1.0), ('Tian-Yun Chang', 1.0), ('Vincent Lorant', 1.0), ('Stefan Thurner', 1.0), ('Michael Szell', 1.0), ('Denis Bouyssou', 1.0), ('Thierry Marchant', 1.0), ('Martin Kilduff', 1.0), ('Romina Cachia', 1.0), ('Isidro Maya Jariego', 1.0), ('Monica Ihli', 1.0), ('Molly E. Brown', 1.0), ('Rosa M. V. Figueiredo', 1.0), ('Gisele Moura', 1.0), ('Uwe Matzat', 1.0), ('Chris Snijders', 1.0), ('Robert Ackland', 1.0), (\"Mathieu O'Neil\", 1.0), ('James Stiller', 1.0), ('Taha Yasseri', 1.0), ('John Ternovski', 1.0), ('Zhijin Wu', 1.0), ('Andrea Austin', 1.0), ('Paola Zappa', 1.0), ('Andrew J. Slaughter', 1.0), ('Christopher L. Magee', 1.0), ('Mo-Han Hsieh', 1.0), ('J. Jill Suitor', 1.0), ('Karl Pillemer', 1.0), ('Norman Conti', 1.0), ('Laura Prota', 1.0), ('Norman P. Hummon', 1.0), ('Bernard Grofman', 1.0), ('Timothy J. Brazill', 1.0), ('Elizabeth Costenbader', 1.0), ('Wouter de Nooy', 1.0), ('Jan Kleinnijenhuis', 1.0), ('Martijn J. Burger', 1.0), ('Nikki van Gerwen', 1.0), ('Sudheer Dhulipalla', 1.0), ('Nicholas V. Findler', 1.0), ('Hester H. S. Moerbeek', 1.0), ('Long Doan', 1.0), ('Qiwen Zheng', 1.0), ('Justin H. Gross', 1.0), ('Justin H. Kirkland', 1.0), ('Maxime Reeves-Latour', 1.0), ('Thomas Grund', 1.0), ('Martin Van Der Gaag', 1.0), ('David Knoke', 1.0), ('Francisco J. Granados', 1.0), ('Hui-Ju Kuo', 1.0), ('Chengwei Liu', 1.0), ('Patrick S. Park', 1.0), ('Yong-Hak Kim', 1.0), (\"Kathleen M. O'Connor\", 1.0), ('Johanne Saint-Charles', 1.0), ('Pierre Mongeau', 1.0), ('Kai J. Jonas', 1.0), ('Jeremy Mennis', 1.0), ('Michael J. Mason', 1.0), ('Xin Lu 0002', 1.0), ('Michael McBride', 1.0), ('Michael Caldara', 1.0), ('Eva Vriens', 1.0), ('Michael Mäs', 1.0), ('Karl-Dieter Opp', 1.0), ('Andrés Cardona', 1.0), ('Basak Bilecen', 1.0), ('Li-Ting Wang', 1.0), ('Rebeka Johnson', 1.0), ('C. Prem Sankar', 1.0), ('K. Satheesh Kumar', 1.0), ('Yves Zenou', 1.0), ('Eleonora Patacchini', 1.0), ('Harald Wiese', 1.0), ('Andreas Tutic', 1.0), ('Christopher Marquis', 1.0), ('Ryan W. Quinn', 1.0), ('Robert R. Faulkner', 1.0), ('Christoph H. Loch', 1.0), ('William S. Lovejoy', 1.0), ('Julia Brennecke', 1.0), ('Jennifer L. Merluzzi', 1.0), ('Mason A. Porter', 1.0), ('Valentin Danchev', 1.0), ('Cynthia M. Webster', 1.0), ('Devon D. Brewer', 1.0), ('R. Neelamegham', 1.0), ('Jeffrey C. Johnson', 1.0), ('Michael K. Orbach', 1.0), ('John Levi Martin', 1.0), ('King-To Yeung', 1.0), ('W. Craig Carter', 1.0), ('Stéphane Legendre', 1.0), ('Philippe Ramirez', 1.0), ('Michele Tumminello', 1.0), ('Salvatore Miccichè', 1.0), ('Verónica de Miguel Luken', 1.0), ('Rafael T. Mikolajczyk', 1.0), ('Mirjam Kretzschmar', 1.0), ('Hans Noel', 1.0), ('Brendan Nyhan', 1.0), ('Bálint Néray', 1.0), ('Dorottya Kisfalusi', 1.0), ('Johannes Glückler', 1.0), ('Robert Panitz', 1.0), ('Yee Heng Tan', 1.0), ('William C. Carter', 1.0), ('John M. Roberts Jr.', 1.0), ('Raymond V. Liedka', 1.0), ('Janice Yap', 1.0), ('Jacob Dijkstra', 1.0), ('Tucker McGrimmon', 1.0), ('Peter V. Marsden', 1.0), ('Stefanie Bailey', 1.0), ('Bernice A. Pescosolido', 1.0), ('Robert Huckfeldt', 1.0), ('Matthew T. Pietryka', 1.0), ('Jon A. Krosnick', 1.0), ('Sören Petermann', 1.0), ('Yanick Charette', 1.0), ('Alayne M. Adams', 1.0), ('Sangeetha Madhavan', 1.0), ('W. Scott Comulada', 1.0), ('Carl A. Latkin', 1.0), ('Gerrit Rooks', 1.0), ('Jeremy M. Koster', 1.0), ('George Leckie', 1.0), ('Sara Bojarczuk', 1.0), ('Peter Mühlau', 1.0), ('Daniel Lavenu', 1.0), ('Scott W. Duxbury', 1.0), ('Eric Turkheimer', 1.0), ('Thomas F. Oltmanns', 1.0), ('Odalia Wong', 1.0), ('Travis G. Tatum', 1.0), ('Thomas U. Grund', 1.0), ('Sebastian Bähr', 1.0), ('Martin Abraham', 1.0), ('Vincent Chua', 1.0), ('Yi Cheng Loh', 1.0), ('Eric Giannella', 1.0), ('Shira Offer', 1.0), ('Ana Salomé García Muñiz', 1.0), ('Carmen Ramos Carvajal', 1.0), ('Anton Grau Larsen', 1.0), ('Christoph Houman Ellersgaard', 1.0), ('Stefano Tasselli', 1.0), ('Kevin White 0002', 1.0), ('Susan Cotts Watkins', 1.0), ('Kuishuang Feng', 1.0), ('Matilde Massó', 1.0), ('Alejandro Arnulfo Ruiz-León', 1.0), ('Kate Eddens', 1.0), ('Jesse M. Fagan', 1.0), ('Sam Schramski', 1.0), ('Christopher Sukhu', 1.0), ('Karen Klein Ikkink', 1.0), ('Neha Gondal', 1.0), ('Paul D. McLean', 1.0), ('Anand E. Sokhey', 1.0), ('Paul A. Djupe', 1.0), ('Norman Braun', 1.0), ('Thomas Gautschi', 1.0), ('Jake Burchard', 1.0), ('Benjamin Cornwell', 1.0), ('Jason Bello', 1.0), ('Meredith Rolfe', 1.0), ('José Atilano Pena-López', 1.0), ('Jose Manuel Sánchez-Santos', 1.0), ('David E. Eagle', 1.0), ('Rae Jean Proeschold-Bell', 1.0), ('Marie-Odile Lebeaux', 1.0), ('Rachel Garshick Kleit', 1.0), ('Nicole Bohme Carnegie', 1.0), ('Hubert Buch-Hansen', 1.0), ('Lasse Folke Henriksen', 1.0), ('Alexia Gaudeul', 1.0), ('Caterina Giannetti', 1.0), ('Nicola Mirc', 1.0), ('Drazen Cepic', 1.0), ('Zeljka Tonkovic', 1.0), ('Marieke Wissink', 1.0), ('Valentina Mazzucato', 1.0), ('Brandy Aven', 1.0), ('Sheena Iyengar', 1.0), ('Riccardo Boero', 1.0069444444444444), ('Giangiacomo Bravo', 1.0069444444444444), ('Palakorn Achananuparp', 1.0069444444444444), ('Ee-Peng Lim', 1.0069444444444444), ('Michael Johnston', 1.0069444444444444), ('Annie Cody Holdren', 1.0069444444444444), ('Fabio Pammolli', 1.0069444444444444), ('Andrea Flori', 1.0069444444444444), ('Georg Wolff', 1.0069444444444444), ('Michael Wältermann', 1.0069444444444444), ('Douglas L. Steinley', 1.0069444444444444), ('Michaela Hoffman', 1.0069444444444444), ('Samrachana Adhikari', 1.0069444444444444), ('Beau Dabbs', 1.0069444444444444), ('Sara Yeatman', 1.0069444444444444), ('Stéphane Helleringer', 1.0069444444444444), ('Sara Bastomski', 1.0069444444444444), ('Noli Brazil', 1.0069444444444444), ('Wei Wang 0211', 1.0069444444444444), ('Daniel A. Newman', 1.0069444444444444), ('Danching Ruan', 1.0069444444444444), ('Rance P. L. Lee', 1.0069444444444444), ('Vontrese Deeds Pamphile', 1.0069444444444444), ('Peter McMahan', 1.0069444444444444), ('Elisabeth L. Terhell', 1.0069444444444444), ('Marjolein I. Broese van Groenou', 1.0069444444444444), ('Matthieu Latapy', 1.125), ('Nathalie Del Vecchio', 1.125), ('Clémence Magnien', 1.125), ('Manish Purohit', 1.125), ('Rami Puzis', 1.125), ('V. S. Subrahmanian', 1.125), ('Erik Jan van Leeuwen', 1.125), ('Daniël Paulusma', 1.125), ('Matthew Johnson 0002', 1.125), ('Pádraig Cunningham', 1.125), ('Xiangju Qin', 1.125), ('Michael Salter-Townshend', 1.125), ('Alain Barrat', 1.125), ('Ciro Cattuto', 1.125), ('Juliette Stehlé', 1.125), ('Stephan Günnemann', 1.125), ('Pauli Miettinen', 1.125), ('Saskia Metzler', 1.125), ('Daniel Diermeier', 1.125), ('Spiro Maroulis', 1.125), ('Muhammad Azfar Nisar', 1.125), ('Frank W. Takes', 1.125), ('Eelke M. Heemskerk', 1.125), ('Diliara Valeeva', 1.125), ('Ruth F. Hunter', 1.125), ('Frank Kee', 1.125), ('Jennifer M. Badham', 1.125), ('Christian R. Shelton', 1.125), ('Robert A. Hanneman', 1.125), ('Juan I. Casse', 1.125), ('Dario Gregori', 1.125), ('Silvia Snidero', 1.125), ('Roberto Corradetti', 1.125), ('Patricia B. Cerrito', 1.125), ('Inessa Levi', 1.125), ('George R. Barnes', 1.125), ('Mathew D. McCubbins', 1.125), ('Daniel P. Enemark', 1.125), ('Nicholas Weller', 1.125), ('Mark Levene', 1.125), ('George Loizou', 1.125), ('Trevor I. Fenner', 1.125), ('Kwok-Leung Tsui', 1.125), ('William H. Woodall', 1.125), ('Lisha Yu', 1.125), ('Robert Elliott Smith', 1.125), ('Rickard Nyman', 1.125), ('David Tuckett', 1.125), ('Mayank Aggarwal', 1.125), ('Pritha Dev', 1.125), ('Anindya S. Chakrabarti', 1.125), ('Ke Xu 0001', 1.125), ('Jichang Zhao', 1.125), ('Zhenkun Zhou', 1.125), ('David Holman', 1.125), ('Peter Totterdell', 1.125), ('Amy Hukin', 1.125), ('Yaneer Bar-Yam', 1.125), ('Blake C. Stacey', 1.125), ('Dan Braha', 1.125), ('Samira Malek Mohamadi Golsefid', 1.125), ('Susan Bastani', 1.125), ('Mohammad Hossein Fazel Zarandi', 1.125), ('Nava Pliskin', 1.125), ('Gilad Ravid', 1.125), ('Alon Bartal', 1.125), ('Jacob G. Foster', 1.125), ('James A. Evans', 1.125), ('Feng Shi 0005', 1.125), ('Carolyn J. Anderson', 1.125), ('Bradley Crouch', 1.125), ('Stanley Wasserman', 1.125), ('David W. Matula', 1.125), ('Eli V. Olinick', 1.125), ('Charles F. Mann', 1.125), ('Hongyi Jiang', 1.125), ('Kenneth S. Berenhaut', 1.125), ('Rebecca C. Kotsonis', 1.125), ('Antonio Páez', 1.125), ('Darren M. Scott', 1.125), ('Erik M. Volz', 1.125), ('Michele Starnini', 1.125), ('Andrea Baronchelli', 1.125), ('Romualdo Pastor-Satorras', 1.125), ('Sergiy Butenko', 1.125), ('Zeynep Ertem', 1.125), ('Alexander Veremyev', 1.125), ('Michael Howard', 1.125), ('Michael Withers', 1.125), ('Ji Youn (Rose) Kim', 1.125), ('Mario Diani', 1.125), ('David B. Tindall', 1.125), ('Jeffrey Cormier', 1.125), ('Frits van Merode', 1.125), ('Anna Nieboer', 1.125), ('Hans Maarse', 1.125), ('P. Robert Duimering', 1.125), ('Zhehui Zhong', 1.125), ('Gbemisola Adejumo', 1.125), ('Vincent A. Traag', 1.125), ('Jeroen Bruggeman', 1.125), ('Justus Uitermark', 1.125), ('Johannes Hedtrich', 1.125), ('Christian Aßmann', 1.125), ('Christian Henning', 1.125), ('Alexander G. Nikolaev', 1.125), ('Ashwin Kucheriya', 1.125), ('Raihan Razib', 1.125), ('Theo A. Arentze', 1.125), ('Matthias Kowald', 1.125), ('Kay W. Axhausen', 1.125), ('Jonathan J. Forster', 1.125), ('Peter W. F. Smith', 1.125), ('John W. McDonald', 1.125), ('Tahereh Dehdarirad', 1.125), ('Stefano Nasini', 1.125), ('Víctor Martínez-de-Albéniz', 1.125), ('J. Santana', 1.125), ('Raine Hoover', 1.125), ('Meera Vengadasubbu', 1.125), ('Zsolt Katona', 1.125), ('Imran Chowdhury', 1.125), ('Peter Pal Zubcsek', 1.125), ('Martin Hilbert', 1.125), ('Peter Monge', 1.125), ('Poong Oh', 1.125), ('Michael Neblo', 1.125), ('Brian Rubineau', 1.125), ('Yisook Lim', 1.125), ('Joris Mulder', 1.125), ('Roger Th. A. J. Leenders', 1.125), ('Dino Dittrich', 1.125), ('Joachim Krieter', 1.125), ('Jennifer Salau', 1.125), ('Kathrin Büttner', 1.125), ('Helena Buhr', 1.125), ('Jason Owen-Smith', 1.125), ('Natalie C. Cotton-Nessler', 1.125), ('V. K. Narayanan', 1.125), ('Dali Ma', 1.125), ('ChuanRen Liu', 1.125), ('Frank Tutzauer', 1.125), ('Margaret K. Chojnacki', 1.125), ('Pauline W. Hoffmann', 1.125), ('Christophe Vandeviver', 1.125), ('Sabine De Moor', 1.125), ('Tom Vander Beken', 1.125), ('Catherine A. Calder', 1.125), ('Anna L. Smith', 1.125), ('Christopher R. Browning', 1.125), ('Mark Wittek', 1.125), ('Clemens Kroneberg', 1.125), ('Kathrin Lämmermann', 1.125), ('Weiwei Gu', 1.125), ('Jifan Liu', 1.125), ('Jar-der Luo', 1.125), ('Juliana Cobre', 1.125), ('Sandra Cristina Oliveira', 1.125), ('Taiane de Paula Ferreira', 1.125), ('Eran Shor', 1.125), ('Tamar Yogev', 1.125), ('David J. Roelfs', 1.125), ('Joel Martí', 1.125), ('Carlos Lozares', 1.125), ('Mireia Bolíbar', 1.125), ('Nyi Nyi Htwe', 1.125), ('Seunghoo Lim', 1.125), ('Makoto Kakinaka', 1.125), ('Giulia Berlusconi', 1.125), ('Luca Giommoni', 1.125), ('Alberto Aziani', 1.125), ('Mark Caudell', 1.125), ('Thomas Rotolo', 1.125), ('Mulye Grima', 1.125), ('Yuan Hsiao', 1.125), ('Ching-Ling Cheng', 1.125), ('Ya-Wen Chiu', 1.125), ('Todd C. Lehmann', 1.125), ('Terry D. Clark', 1.125), ('James A. Rolfsen', 1.125), ('Mathijs Kros', 1.125), ('Eva Jaspers', 1.125), ('Maarten van Zalk', 1.125), ('Elaine M. Hernandez', 1.125), ('Erin Pullen', 1.125), ('Jonathan Brauer', 1.125), ('Jennifer A. Stoloff', 1.125), ('Elisa Jayne Bienenstock', 1.125), ('Jennifer L. Glanville', 1.125), ('William P. Eveland', 1.125), ('Osei Appiah', 1.125), ('Paul A. Beck', 1.125), ('Jasper L. de Bie', 1.125), ('Joshua D. Freilich', 1.125), ('Steven M. Chermak', 1.125), ('María Guadalupe Ramírez Ortiz', 1.125), ('María Guadalupe Ramírez López', 1.125), ('José Ramiro Caballero Hoyos', 1.125), ('Sabina Kef', 1.125), ('Joop J. Hox', 1.125), ('H. T. Habekothé', 1.125), ('Pieter-Paul Verhaeghe', 1.125), ('Bart Van de Putte', 1.125), ('Koen Van der Bracht', 1.125), ('Klarita Gërxhani', 1.125), ('Arthur Schram', 1.125), ('Jordi Brandts', 1.125)]\n"
     ]
    }
   ],
   "source": [
    "G=G3\n",
    "L=eg.constraint(G)\n",
    "L=sorted(L.items(), key=lambda d: d[1])\n",
    "\n",
    "print(L)"
   ]
  },
  {
   "cell_type": "code",
   "execution_count": null,
   "metadata": {},
   "outputs": [],
   "source": []
  }
 ],
 "metadata": {
  "kernelspec": {
   "display_name": "Python 3",
   "language": "python",
   "name": "python3"
  },
  "language_info": {
   "codemirror_mode": {
    "name": "ipython",
    "version": 3
   },
   "file_extension": ".py",
   "mimetype": "text/x-python",
   "name": "python",
   "nbconvert_exporter": "python",
   "pygments_lexer": "ipython3",
   "version": "3.8.5"
  }
 },
 "nbformat": 4,
 "nbformat_minor": 4
}
