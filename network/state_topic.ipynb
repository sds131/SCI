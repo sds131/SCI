{
 "cells": [
  {
   "cell_type": "code",
   "execution_count": 1,
   "metadata": {},
   "outputs": [],
   "source": [
    "import csv\n",
    "doc_complete=[]\n",
    "f= open('title.csv','r')\n",
    "csv_reader = csv.reader(f)\n",
    "for row in csv_reader:\n",
    "    doc_complete.append(row[0])    \n",
    "    "
   ]
  },
  {
   "cell_type": "code",
   "execution_count": 2,
   "metadata": {},
   "outputs": [],
   "source": [
    "from nltk.corpus import stopwords\n",
    "from nltk.stem.wordnet import WordNetLemmatizer\n",
    "import string\n",
    "\n",
    "stop = set(stopwords.words('english'))\n",
    "exclude = set(string.punctuation)\n",
    "lemma = WordNetLemmatizer()\n",
    "\n",
    "def clean(doc):\n",
    "    stop_free = \" \".join([i for i in doc.lower().split() if i not in stop])\n",
    "    punc_free = ''.join(ch for ch in stop_free if ch not in exclude)\n",
    "    normalized = \" \".join(lemma.lemmatize(word) for word in punc_free.split())\n",
    "    return normalized\n",
    "\n",
    "doc_clean = [clean(doc).split() for doc in doc_complete]\n"
   ]
  },
  {
   "cell_type": "code",
   "execution_count": 3,
   "metadata": {},
   "outputs": [],
   "source": [
    "import gensim\n",
    "from gensim import corpora\n",
    "\n",
    "# 创建语料的词语词典，每个单独的词语都会被赋予一个索引\n",
    "dictionary = corpora.Dictionary(doc_clean)\n",
    "\n",
    "# 使用上面的词典，将转换文档列表（语料）变成 DT 矩阵\n",
    "doc_term_matrix = [dictionary.doc2bow(doc) for doc in doc_clean]\n"
   ]
  },
  {
   "cell_type": "code",
   "execution_count": 4,
   "metadata": {},
   "outputs": [],
   "source": [
    "# 使用 gensim 来创建 LDA 模型对象\n",
    "Lda = gensim.models.ldamodel.LdaModel\n",
    "\n",
    "# 在 DT 矩阵上运行和训练 LDA 模型\n",
    "ldamodel = Lda(doc_term_matrix, num_topics=7, id2word = dictionary, passes=50)\n"
   ]
  },
  {
   "cell_type": "code",
   "execution_count": 8,
   "metadata": {
    "scrolled": false
   },
   "outputs": [
    {
     "name": "stdout",
     "output_type": "stream",
     "text": [
      "[(0, '0.061*\"social\" + 0.058*\"network\" + 0.011*\"model\" + 0.009*\"community\" + 0.009*\"data\" + 0.008*\"structure\" + 0.008*\"personal\"'), (1, '0.063*\"network\" + 0.034*\"social\" + 0.010*\"analysis\" + 0.009*\"dynamic\" + 0.007*\"data\" + 0.007*\"model\" + 0.006*\"online\"'), (2, '0.027*\"network\" + 0.017*\"social\" + 0.009*\"analysis\" + 0.008*\"study\" + 0.007*\"detection\" + 0.007*\"parallel\" + 0.006*\"data\"'), (3, '0.032*\"network\" + 0.019*\"analysis\" + 0.010*\"model\" + 0.009*\"application\" + 0.009*\"group\" + 0.007*\"centrality\" + 0.006*\"community\"'), (4, '0.046*\"network\" + 0.027*\"social\" + 0.011*\"behavior\" + 0.010*\"based\" + 0.010*\"information\" + 0.010*\"dynamic\" + 0.009*\"influence\"'), (5, '0.076*\"network\" + 0.037*\"social\" + 0.017*\"model\" + 0.015*\"random\" + 0.011*\"graph\" + 0.011*\"structure\" + 0.010*\"exponential\"'), (6, '0.040*\"network\" + 0.025*\"social\" + 0.012*\"study\" + 0.011*\"data\" + 0.009*\"analysis\" + 0.007*\"using\" + 0.007*\"effect\"')]\n"
     ]
    }
   ],
   "source": [
    "# 输出结果\n",
    "print(ldamodel.print_topics(num_topics=7, num_words=7))"
   ]
  },
  {
   "cell_type": "code",
   "execution_count": 10,
   "metadata": {},
   "outputs": [
    {
     "ename": "NameError",
     "evalue": "name 'bow' is not defined",
     "output_type": "error",
     "traceback": [
      "\u001b[0;31m---------------------------------------------------------------------------\u001b[0m",
      "\u001b[0;31mNameError\u001b[0m                                 Traceback (most recent call last)",
      "\u001b[0;32m<ipython-input-10-b838aa50fdad>\u001b[0m in \u001b[0;36m<module>\u001b[0;34m\u001b[0m\n\u001b[0;32m----> 1\u001b[0;31m \u001b[0mprint\u001b[0m\u001b[0;34m(\u001b[0m\u001b[0mldamodel\u001b[0m\u001b[0;34m.\u001b[0m\u001b[0mget_document_topics\u001b[0m\u001b[0;34m(\u001b[0m\u001b[0mbow\u001b[0m\u001b[0;34m,\u001b[0m\u001b[0mminimum_probability\u001b[0m\u001b[0;34m)\u001b[0m\u001b[0;34m)\u001b[0m\u001b[0;31m#bow为词袋格式\u001b[0m\u001b[0;34m\u001b[0m\u001b[0;34m\u001b[0m\u001b[0m\n\u001b[0m",
      "\u001b[0;31mNameError\u001b[0m: name 'bow' is not defined"
     ]
    }
   ],
   "source": [
    "print(ldamodel.get_document_topics(bow,minimum_probability))#bow为词袋格式"
   ]
  },
  {
   "cell_type": "code",
   "execution_count": null,
   "metadata": {},
   "outputs": [],
   "source": []
  }
 ],
 "metadata": {
  "kernelspec": {
   "display_name": "Python 3",
   "language": "python",
   "name": "python3"
  },
  "language_info": {
   "codemirror_mode": {
    "name": "ipython",
    "version": 3
   },
   "file_extension": ".py",
   "mimetype": "text/x-python",
   "name": "python",
   "nbconvert_exporter": "python",
   "pygments_lexer": "ipython3",
   "version": "3.8.5"
  }
 },
 "nbformat": 4,
 "nbformat_minor": 4
}
