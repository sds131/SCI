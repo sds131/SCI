{
 "cells": [
  {
   "cell_type": "code",
   "execution_count": 2,
   "metadata": {},
   "outputs": [],
   "source": [
    "import easygraph as eg\n",
    "import csv\n",
    "import pandas as pd\n",
    "import networkx as nx\n",
    "\n",
    "def make_graph(filepath:str):\n",
    "    G=eg.Graph()\n",
    "    nodes=[]\n",
    "    nodes_attr=[]\n",
    "    edges=[]\n",
    "    edges_attr=[]\n",
    "    f=open(filepath,'r')\n",
    "    next(f)\n",
    "    csv_reader=csv.reader(f)\n",
    "    for row in csv_reader:\n",
    "        i=str(row[0])\n",
    "        i_affifiation=str(row[1])\n",
    "        i_country=str(row[2])\n",
    "        j=str(row[3])\n",
    "        j_affifiation=str(row[4])\n",
    "        j_country=str(row[5])\n",
    "        year=int(row[6])\n",
    "        area=str(row[7])\n",
    "\n",
    "        nodes.append(i)\n",
    "        temp1={}\n",
    "        temp1['affiliation']=i_affifiation\n",
    "        temp1['country']=i_country\n",
    "        nodes_attr.append(temp1)\n",
    "\n",
    "        nodes.append(j)\n",
    "        temp2={}\n",
    "        temp2['affiliation']=j_affifiation\n",
    "        temp2['country']=j_country\n",
    "        nodes_attr.append(temp2)\n",
    "\n",
    "        edges.append((i,j))\n",
    "        temp3={}\n",
    "        temp3['year']=year\n",
    "        temp3['area']=area\n",
    "        edges_attr.append(temp3)\n",
    "\n",
    "    G.add_nodes(nodes,nodes_attr)\n",
    "    G.add_edges(edges,edges_attr)\n",
    "    return G\n"
   ]
  },
  {
   "cell_type": "code",
   "execution_count": 3,
   "metadata": {},
   "outputs": [],
   "source": [
    "# author\n",
    "G1=make_graph('faculty-coauthors.csv')"
   ]
  },
  {
   "cell_type": "code",
   "execution_count": 4,
   "metadata": {},
   "outputs": [],
   "source": [
    "def make_graph_country(filepath:str):\n",
    "    G=eg.Graph()\n",
    "    nodes=[]\n",
    "    nodes_attr=[]\n",
    "    edges=[]\n",
    "    edges_attr=[]\n",
    "    f=open(filepath,'r')\n",
    "    next(f)\n",
    "    csv_reader=csv.reader(f)\n",
    "    for row in csv_reader:\n",
    "        i=str(row[2])\n",
    "        j=str(row[5])\n",
    "        year=int(row[6])\n",
    "        if i not in nodes:\n",
    "            nodes.append(i)\n",
    "        if j not in nodes:\n",
    "            nodes.append(j)\n",
    "\n",
    "        if (i,j) in edges:\n",
    "            index=edges.index((i,j))\n",
    "            edges_attr[index]['weight']+=1\n",
    "        else:\n",
    "            edges.append((i,j))\n",
    "            temp3={}\n",
    "            temp3['weight']=1\n",
    "            edges_attr.append(temp3)\n",
    "\n",
    "    G.add_nodes(nodes)\n",
    "    G.add_edges(edges,edges_attr)\n",
    "    return G\n",
    "\n",
    "\n"
   ]
  },
  {
   "cell_type": "code",
   "execution_count": 5,
   "metadata": {},
   "outputs": [],
   "source": [
    "# country\n",
    "G2=make_graph_country('faculty-coauthors.csv')"
   ]
  },
  {
   "cell_type": "code",
   "execution_count": 5,
   "metadata": {},
   "outputs": [
    {
     "name": "stdout",
     "output_type": "stream",
     "text": [
      "2721 4845\n"
     ]
    }
   ],
   "source": [
    "print(len(G1),G1.size())"
   ]
  },
  {
   "cell_type": "code",
   "execution_count": 6,
   "metadata": {},
   "outputs": [
    {
     "name": "stdout",
     "output_type": "stream",
     "text": [
      "60 247\n"
     ]
    }
   ],
   "source": [
    "print(len(G2),G2.size())"
   ]
  },
  {
   "cell_type": "code",
   "execution_count": 1,
   "metadata": {},
   "outputs": [
    {
     "ename": "NameError",
     "evalue": "name 'eg' is not defined",
     "output_type": "error",
     "traceback": [
      "\u001b[0;31m---------------------------------------------------------------------------\u001b[0m",
      "\u001b[0;31mNameError\u001b[0m                                 Traceback (most recent call last)",
      "\u001b[0;32m<ipython-input-1-0bd178e675e0>\u001b[0m in \u001b[0;36m<module>\u001b[0;34m\u001b[0m\n\u001b[0;32m----> 1\u001b[0;31m \u001b[0mSHS\u001b[0m\u001b[0;34m=\u001b[0m\u001b[0msorted\u001b[0m\u001b[0;34m(\u001b[0m\u001b[0meg\u001b[0m\u001b[0;34m.\u001b[0m\u001b[0mconstraint\u001b[0m\u001b[0;34m(\u001b[0m\u001b[0mG1\u001b[0m\u001b[0;34m)\u001b[0m\u001b[0;34m.\u001b[0m\u001b[0mitems\u001b[0m\u001b[0;34m(\u001b[0m\u001b[0;34m)\u001b[0m\u001b[0;34m,\u001b[0m \u001b[0mkey\u001b[0m\u001b[0;34m=\u001b[0m\u001b[0;32mlambda\u001b[0m \u001b[0md\u001b[0m\u001b[0;34m:\u001b[0m \u001b[0md\u001b[0m\u001b[0;34m[\u001b[0m\u001b[0;36m1\u001b[0m\u001b[0;34m]\u001b[0m\u001b[0;34m)\u001b[0m\u001b[0;34m\u001b[0m\u001b[0;34m\u001b[0m\u001b[0m\n\u001b[0m",
      "\u001b[0;31mNameError\u001b[0m: name 'eg' is not defined"
     ]
    }
   ],
   "source": [
    "SHS=sorted(eg.constraint(G1).items(), key=lambda d: d[1])"
   ]
  },
  {
   "cell_type": "code",
   "execution_count": 2,
   "metadata": {
    "scrolled": true
   },
   "outputs": [
    {
     "ename": "NameError",
     "evalue": "name 'eg' is not defined",
     "output_type": "error",
     "traceback": [
      "\u001b[0;31m---------------------------------------------------------------------------\u001b[0m",
      "\u001b[0;31mNameError\u001b[0m                                 Traceback (most recent call last)",
      "\u001b[0;32m<ipython-input-2-ba4ce29cfba6>\u001b[0m in \u001b[0;36m<module>\u001b[0;34m\u001b[0m\n\u001b[0;32m----> 1\u001b[0;31m \u001b[0mSHS2\u001b[0m\u001b[0;34m=\u001b[0m\u001b[0msorted\u001b[0m\u001b[0;34m(\u001b[0m\u001b[0meg\u001b[0m\u001b[0;34m.\u001b[0m\u001b[0mconstraint\u001b[0m\u001b[0;34m(\u001b[0m\u001b[0mG2\u001b[0m\u001b[0;34m)\u001b[0m\u001b[0;34m.\u001b[0m\u001b[0mitems\u001b[0m\u001b[0;34m(\u001b[0m\u001b[0;34m)\u001b[0m\u001b[0;34m,\u001b[0m \u001b[0mkey\u001b[0m\u001b[0;34m=\u001b[0m\u001b[0;32mlambda\u001b[0m \u001b[0md\u001b[0m\u001b[0;34m:\u001b[0m \u001b[0md\u001b[0m\u001b[0;34m[\u001b[0m\u001b[0;36m1\u001b[0m\u001b[0;34m]\u001b[0m\u001b[0;34m)\u001b[0m\u001b[0;34m\u001b[0m\u001b[0;34m\u001b[0m\u001b[0m\n\u001b[0m",
      "\u001b[0;31mNameError\u001b[0m: name 'eg' is not defined"
     ]
    }
   ],
   "source": [
    "SHS2=sorted(eg.constraint(G2).items(), key=lambda d: d[1])"
   ]
  },
  {
   "cell_type": "code",
   "execution_count": null,
   "metadata": {},
   "outputs": [],
   "source": [
    "\"\"\"\n",
    "基础图分析（dblp network与Google scholar network对比）\n",
    "degree\n",
    "clustering coefficient \n",
    "shortest-path length\n",
    "\n",
    "SH spanner 分析（SHS与随机non-SHS对比）\n",
    "constraint\n",
    "degree\n",
    "Betweenness centrality \n",
    "PageRank \n",
    "\n",
    "SHS特征重要性（国家、学校、平均作者、topic）\n",
    "\n",
    "\"\"\""
   ]
  },
  {
   "cell_type": "code",
   "execution_count": 10,
   "metadata": {},
   "outputs": [],
   "source": [
    "GG=eg.Graph()\n",
    "GG.add_edges_from_file('google_scholar_edges.txt')\n"
   ]
  },
  {
   "cell_type": "code",
   "execution_count": 11,
   "metadata": {
    "scrolled": true
   },
   "outputs": [
    {
     "name": "stdout",
     "output_type": "stream",
     "text": [
      "277074 1234019\n"
     ]
    }
   ],
   "source": [
    "print(len(GG),GG.size())"
   ]
  },
  {
   "cell_type": "code",
   "execution_count": 12,
   "metadata": {},
   "outputs": [],
   "source": [
    "def degree_cdf(G1,G2):\n",
    "    D1=G1.degree()\n",
    "    D2=G2.degree()\n",
    "\n",
    "    data=[]\n",
    "    for i in D1:\n",
    "        data.append(D1[i])\n",
    "    for i in G1.nodes:\n",
    "        if i not in D1:\n",
    "            data.append(0)\n",
    "    f1 = open('/users/sds/downloads/degree1.csv','w',encoding='utf-8')\n",
    "    csv_writer = csv.writer(f1)\n",
    "    for i in range(0,len(data)):\n",
    "        csv_writer.writerow([data[i]])\n",
    "    f1.close()\n",
    "\n",
    "    data=[]\n",
    "    for i in D2:\n",
    "        data.append(D2[i])\n",
    "    for i in G2.nodes:\n",
    "        if i not in D2:\n",
    "            data.append(0)\n",
    "    f2 = open('/users/sds/downloads/degree2.csv','w',encoding='utf-8')\n",
    "    csv_writer = csv.writer(f2)\n",
    "    for i in range(0,len(data)):\n",
    "        csv_writer.writerow([data[i]])\n",
    "    f2.close()\n",
    "    \n",
    "degree_cdf(G1,GG)"
   ]
  },
  {
   "cell_type": "code",
   "execution_count": 15,
   "metadata": {},
   "outputs": [],
   "source": [
    "\"\"\"\n",
    "def degree_dis(G1,G2):\n",
    "    D1=G1.degree()\n",
    "    D2=G2.degree()\n",
    "\n",
    "    data={}\n",
    "    for i in G1.nodes:\n",
    "        if D1[i]!=0:\n",
    "            if D1[i] not in data:\n",
    "                data[D1[i]]=1\n",
    "            else:\n",
    "                data[D1[i]]+=1\n",
    "\n",
    "    f1 = open('/users/sds/downloads/degree_distribution1.csv','w',encoding='utf-8')\n",
    "    csv_writer = csv.writer(f1)\n",
    "    for i in data:\n",
    "        csv_writer.writerow([i,data[i]])\n",
    "    f1.close()\n",
    "    \n",
    "    data={}\n",
    "    for i in G2.nodes:\n",
    "        if D2[i]!=0:\n",
    "            if D2[i] not in data:\n",
    "                data[D2[i]]=1\n",
    "            else:\n",
    "                data[D2[i]]+=1\n",
    "\n",
    "    f2 = open('/users/sds/downloads/degree_distribution2.csv','w',encoding='utf-8')\n",
    "    csv_writer = csv.writer(f2)\n",
    "    for i in data:\n",
    "        csv_writer.writerow([i,data[i]])\n",
    "    f2.close()\n",
    "    \n",
    "degree_dis(G1,GG)\n",
    "\"\"\""
   ]
  },
  {
   "cell_type": "code",
   "execution_count": 34,
   "metadata": {},
   "outputs": [],
   "source": [
    "import networkx as nx\n",
    "\n",
    "def cc_cdf(G1,G2):\n",
    "    Gn1=nx.Graph()\n",
    "    for i in G1.edges:\n",
    "        (u,v,t)=i\n",
    "        Gn1.add_edge(u,v)\n",
    "\n",
    "    Gn2=nx.Graph()\n",
    "    for i in G2.edges:\n",
    "        (u,v,t)=i\n",
    "        Gn2.add_edge(u,v)\n",
    "\n",
    "    C1=[]\n",
    "    for i in Gn1.nodes:\n",
    "        k=nx.clustering(Gn1,i)\n",
    "        C1.append(k)\n",
    "    f1 = open('/users/sds/downloads/clustering_coefficient1.csv','w',encoding='utf-8')\n",
    "    csv_writer = csv.writer(f1)\n",
    "    for i in range(0,len(C1)):\n",
    "        csv_writer.writerow([C1[i]])\n",
    "    f1.close()\n",
    "\n",
    "    C2=[]\n",
    "    for i in Gn2.nodes:\n",
    "        k=nx.clustering(Gn2,i)\n",
    "        C2.append(k) \n",
    "    f2 = open('/users/sds/downloads/clustering_coefficient2.csv','w',encoding='utf-8')\n",
    "    csv_writer = csv.writer(f2)\n",
    "    for i in range(0,len(C2)):\n",
    "        csv_writer.writerow([C2[i]])\n",
    "    f2.close()\n",
    "\n",
    "cc_cdf(G1,GG)\n"
   ]
  },
  {
   "cell_type": "code",
   "execution_count": null,
   "metadata": {},
   "outputs": [],
   "source": [
    "\"\"\"\n",
    "constraint\n",
    "degree\n",
    "Betweenness centrality \n",
    "PageRank \n",
    "\"\"\""
   ]
  },
  {
   "cell_type": "code",
   "execution_count": 19,
   "metadata": {},
   "outputs": [],
   "source": [
    "import random\n",
    "con=eg.constraint(G1)\n",
    "con=sorted(con.items(), key=lambda d: d[1])\n",
    "\n",
    "\n",
    "SHS1=[]\n",
    "nonSHS1=[]\n",
    "\n",
    "kk=int(len(G1)*0.05)\n",
    "k=0\n",
    "for i in con:\n",
    "    if k<kk:\n",
    "        SHS1.append(i[0])\n",
    "        k+=1\n",
    "    else:\n",
    "        break\n",
    "        \n",
    "random.seed(10)\n",
    "while len(nonSHS1)<kk:\n",
    "    t=random.sample(con, 1)\n",
    "    if t[0][0] not in SHS1 and t[0][0] not in nonSHS1:\n",
    "        nonSHS1.append(t[0][0])\n",
    "        "
   ]
  },
  {
   "cell_type": "code",
   "execution_count": 24,
   "metadata": {},
   "outputs": [],
   "source": [
    "def constraint_cdf(G1,L1,L2):\n",
    "    constraint=eg.constraint(G1)\n",
    "    D1=[]\n",
    "    D2=[]\n",
    "    for i in constraint:\n",
    "        if i in L1:\n",
    "            D1.append(constraint[i])\n",
    "        elif i in L2:\n",
    "            D2.append(constraint[i])\n",
    "    f1 = open('/users/sds/downloads/constraint1.csv','w',encoding='utf-8')\n",
    "    csv_writer = csv.writer(f1)\n",
    "    for i in range(0,len(D1)):\n",
    "        csv_writer.writerow([D1[i]])\n",
    "    f1.close()\n",
    "\n",
    "    f2 = open('/users/sds/downloads/constraint2.csv','w',encoding='utf-8')\n",
    "    csv_writer = csv.writer(f2)\n",
    "    for i in range(0,len(D2)):\n",
    "        csv_writer.writerow([D2[i]])\n",
    "    f2.close()\n",
    "    \n",
    "constraint_cdf(G1,SHS1,nonSHS1)"
   ]
  },
  {
   "cell_type": "code",
   "execution_count": 23,
   "metadata": {},
   "outputs": [],
   "source": [
    "def degree_cdf(G1,L1,L2):\n",
    "    degree=G1.degree()\n",
    "    D1=[]\n",
    "    D2=[]\n",
    "    for i in degree:\n",
    "        if i in L1:\n",
    "            D1.append(degree[i])\n",
    "        elif i in L2:\n",
    "            D2.append(degree[i])\n",
    "    f1 = open('/users/sds/downloads/degree1.csv','w',encoding='utf-8')\n",
    "    csv_writer = csv.writer(f1)\n",
    "    for i in range(0,len(D1)):\n",
    "        csv_writer.writerow([D1[i]])\n",
    "    f1.close()\n",
    "\n",
    "    f2 = open('/users/sds/downloads/degree2.csv','w',encoding='utf-8')\n",
    "    csv_writer = csv.writer(f2)\n",
    "    for i in range(0,len(D2)):\n",
    "        csv_writer.writerow([D2[i]])\n",
    "    f2.close()\n",
    "    \n",
    "degree_cdf(G1,SHS1,nonSHS1)"
   ]
  },
  {
   "cell_type": "code",
   "execution_count": 26,
   "metadata": {},
   "outputs": [],
   "source": [
    "def betweenness_centrality(G1,L1,L2):\n",
    "    betweenness_centrality=eg.betweenness_centrality(G1)\n",
    "    D1=[]\n",
    "    D2=[]\n",
    "    for i in betweenness_centrality:\n",
    "        if i in L1:\n",
    "            D1.append(betweenness_centrality[i])\n",
    "        elif i in L2:\n",
    "            D2.append(betweenness_centrality[i])\n",
    "    f1 = open('/users/sds/downloads/betweenness_centrality1.csv','w',encoding='utf-8')\n",
    "    csv_writer = csv.writer(f1)\n",
    "    for i in range(0,len(D1)):\n",
    "        csv_writer.writerow([D1[i]])\n",
    "    f1.close()\n",
    "\n",
    "    f2 = open('/users/sds/downloads/betweenness_centrality2.csv','w',encoding='utf-8')\n",
    "    csv_writer = csv.writer(f2)\n",
    "    for i in range(0,len(D2)):\n",
    "        csv_writer.writerow([D2[i]])\n",
    "    f2.close()\n",
    "    \n",
    "betweenness_centrality(G1,SHS1,nonSHS1)"
   ]
  },
  {
   "cell_type": "code",
   "execution_count": 28,
   "metadata": {},
   "outputs": [],
   "source": [
    "import networkx as nx\n",
    "Gn1=nx.Graph()\n",
    "for i in G1.edges:\n",
    "    (u,v,t)=i\n",
    "    Gn1.add_edge(u,v)\n",
    "\n",
    "Gn2=nx.Graph()\n",
    "for i in G2.edges:\n",
    "    (u,v,t)=i\n",
    "    Gn2.add_edge(u,v)\n",
    "    \n",
    "def pagerank(G1,L1,L2):\n",
    "    PR=nx.pagerank(Gn1,alpha=0.85)\n",
    "    D1=[]\n",
    "    D2=[]\n",
    "    for i in PR:\n",
    "        if i in L1:\n",
    "            D1.append(PR[i])\n",
    "        elif i in L2:\n",
    "            D2.append(PR[i])\n",
    "    f1 = open('/users/sds/downloads/pagerank1.csv','w',encoding='utf-8')\n",
    "    csv_writer = csv.writer(f1)\n",
    "    for i in range(0,len(D1)):\n",
    "        csv_writer.writerow([D1[i]])\n",
    "    f1.close()\n",
    "\n",
    "    f2 = open('/users/sds/downloads/pagerank2.csv','w',encoding='utf-8')\n",
    "    csv_writer = csv.writer(f2)\n",
    "    for i in range(0,len(D2)):\n",
    "        csv_writer.writerow([D2[i]])\n",
    "    f2.close()\n",
    "    \n",
    "pagerank(G1,SHS1,nonSHS1)"
   ]
  },
  {
   "cell_type": "code",
   "execution_count": null,
   "metadata": {},
   "outputs": [],
   "source": [
    "# country"
   ]
  },
  {
   "cell_type": "code",
   "execution_count": 31,
   "metadata": {},
   "outputs": [],
   "source": [
    "import random\n",
    "con=eg.constraint(G2)\n",
    "con=sorted(con.items(), key=lambda d: d[1])\n",
    "\n",
    "\n",
    "SHS2=[]\n",
    "nonSHS2=[]\n",
    "\n",
    "kk=int(len(G2)*0.1)\n",
    "k=0\n",
    "for i in con:\n",
    "    if k<kk:\n",
    "        SHS2.append(i[0])\n",
    "        k+=1\n",
    "    else:\n",
    "        break\n",
    "        \n",
    "random.seed(10)\n",
    "while len(nonSHS2)<kk:\n",
    "    t=random.sample(con, 1)\n",
    "    if t[0][0] not in SHS2 and t[0][0] not in nonSHS2:\n",
    "        nonSHS2.append(t[0][0])\n",
    "\n",
    "constraint_cdf(G2,SHS2,nonSHS2)\n",
    "degree_cdf(G2,SHS2,nonSHS2)\n",
    "betweenness_centrality(G2,SHS2,nonSHS2)\n",
    "pagerank(G2,SHS2,nonSHS2)"
   ]
  },
  {
   "cell_type": "code",
   "execution_count": 36,
   "metadata": {},
   "outputs": [],
   "source": [
    "GK=eg.datasets.get_graph_karateclub()\n",
    "\n",
    "GD=eg.Graph()\n",
    "GD.add_edges_from_file('dolphins.txt')"
   ]
  },
  {
   "cell_type": "code",
   "execution_count": null,
   "metadata": {},
   "outputs": [],
   "source": [
    "\"\"\"\n",
    "degree\n",
    "clustering coefficient \n",
    "path length\n",
    "\"\"\""
   ]
  },
  {
   "cell_type": "code",
   "execution_count": 38,
   "metadata": {},
   "outputs": [],
   "source": [
    "def degree_cdf(G1,G2,G3):\n",
    "    D1=G1.degree()\n",
    "    D2=G2.degree()\n",
    "    D3=G3.degree()\n",
    "    \n",
    "    data=[]\n",
    "    for i in D1:\n",
    "        data.append(D1[i])\n",
    "    for i in G1.nodes:\n",
    "        if i not in D1:\n",
    "            data.append(0)\n",
    "    f1 = open('/users/sds/downloads/degree1.csv','w',encoding='utf-8')\n",
    "    csv_writer = csv.writer(f1)\n",
    "    for i in range(0,len(data)):\n",
    "        csv_writer.writerow([data[i]])\n",
    "    f1.close()\n",
    "\n",
    "    data=[]\n",
    "    for i in D2:\n",
    "        data.append(D2[i])\n",
    "    for i in G2.nodes:\n",
    "        if i not in D2:\n",
    "            data.append(0)\n",
    "    f2 = open('/users/sds/downloads/degree2.csv','w',encoding='utf-8')\n",
    "    csv_writer = csv.writer(f2)\n",
    "    for i in range(0,len(data)):\n",
    "        csv_writer.writerow([data[i]])\n",
    "    f2.close()\n",
    "    \n",
    "    data=[]\n",
    "    for i in D3:\n",
    "        data.append(D3[i])\n",
    "    for i in G3.nodes:\n",
    "        if i not in D3:\n",
    "            data.append(0)\n",
    "    f3 = open('/users/sds/downloads/degree3.csv','w',encoding='utf-8')\n",
    "    csv_writer = csv.writer(f3)\n",
    "    for i in range(0,len(data)):\n",
    "        csv_writer.writerow([data[i]])\n",
    "    f3.close()\n",
    "\n",
    "\n",
    "degree_cdf(G2,GK,GD)"
   ]
  },
  {
   "cell_type": "code",
   "execution_count": 39,
   "metadata": {},
   "outputs": [],
   "source": [
    "import networkx as nx\n",
    "\n",
    "def cc_cdf(G1,G2,G3):\n",
    "    Gn1=nx.Graph()\n",
    "    for i in G1.edges:\n",
    "        (u,v,t)=i\n",
    "        Gn1.add_edge(u,v)\n",
    "\n",
    "    Gn2=nx.Graph()\n",
    "    for i in G2.edges:\n",
    "        (u,v,t)=i\n",
    "        Gn2.add_edge(u,v)\n",
    "        \n",
    "    Gn3=nx.Graph()\n",
    "    for i in G3.edges:\n",
    "        (u,v,t)=i\n",
    "        Gn3.add_edge(u,v)\n",
    "\n",
    "    C1=[]\n",
    "    for i in Gn1.nodes:\n",
    "        k=nx.clustering(Gn1,i)\n",
    "        C1.append(k)\n",
    "    f1 = open('/users/sds/downloads/clustering_coefficient1.csv','w',encoding='utf-8')\n",
    "    csv_writer = csv.writer(f1)\n",
    "    for i in range(0,len(C1)):\n",
    "        csv_writer.writerow([C1[i]])\n",
    "    f1.close()\n",
    "\n",
    "    C2=[]\n",
    "    for i in Gn2.nodes:\n",
    "        k=nx.clustering(Gn2,i)\n",
    "        C2.append(k) \n",
    "    f2 = open('/users/sds/downloads/clustering_coefficient2.csv','w',encoding='utf-8')\n",
    "    csv_writer = csv.writer(f2)\n",
    "    for i in range(0,len(C2)):\n",
    "        csv_writer.writerow([C2[i]])\n",
    "    f2.close()\n",
    "\n",
    "    C3=[]\n",
    "    for i in Gn3.nodes:\n",
    "        k=nx.clustering(Gn3,i)\n",
    "        C3.append(k)\n",
    "    f3 = open('/users/sds/downloads/clustering_coefficient3.csv','w',encoding='utf-8')\n",
    "    csv_writer = csv.writer(f3)\n",
    "    for i in range(0,len(C3)):\n",
    "        csv_writer.writerow([C3[i]])\n",
    "    f3.close()\n",
    "    \n",
    "cc_cdf(G2,GK,GD)"
   ]
  },
  {
   "cell_type": "code",
   "execution_count": 42,
   "metadata": {},
   "outputs": [
    {
     "ename": "AttributeError",
     "evalue": "'Graph' object has no attribute 'is_multigraph'",
     "output_type": "error",
     "traceback": [
      "\u001b[0;31m---------------------------------------------------------------------------\u001b[0m",
      "\u001b[0;31mAttributeError\u001b[0m                            Traceback (most recent call last)",
      "\u001b[0;32m<ipython-input-42-4737c8047192>\u001b[0m in \u001b[0;36m<module>\u001b[0;34m\u001b[0m\n\u001b[1;32m     76\u001b[0m     \u001b[0mtest\u001b[0m\u001b[0;34m.\u001b[0m\u001b[0mto_csv\u001b[0m\u001b[0;34m(\u001b[0m\u001b[0;34m'/users/sds/downloads/path_length3.csv'\u001b[0m\u001b[0;34m)\u001b[0m\u001b[0;34m\u001b[0m\u001b[0;34m\u001b[0m\u001b[0m\n\u001b[1;32m     77\u001b[0m \u001b[0;34m\u001b[0m\u001b[0m\n\u001b[0;32m---> 78\u001b[0;31m \u001b[0mpl_cdf\u001b[0m\u001b[0;34m(\u001b[0m\u001b[0mG2\u001b[0m\u001b[0;34m,\u001b[0m\u001b[0mGK\u001b[0m\u001b[0;34m,\u001b[0m\u001b[0mGD\u001b[0m\u001b[0;34m)\u001b[0m\u001b[0;34m\u001b[0m\u001b[0;34m\u001b[0m\u001b[0m\n\u001b[0m",
      "\u001b[0;32m<ipython-input-42-4737c8047192>\u001b[0m in \u001b[0;36mpl_cdf\u001b[0;34m(Gn1, Gn2, Gn3)\u001b[0m\n\u001b[1;32m      1\u001b[0m \u001b[0;32mdef\u001b[0m \u001b[0mpl_cdf\u001b[0m\u001b[0;34m(\u001b[0m\u001b[0mGn1\u001b[0m\u001b[0;34m,\u001b[0m\u001b[0mGn2\u001b[0m\u001b[0;34m,\u001b[0m\u001b[0mGn3\u001b[0m\u001b[0;34m)\u001b[0m\u001b[0;34m:\u001b[0m\u001b[0;34m\u001b[0m\u001b[0;34m\u001b[0m\u001b[0m\n\u001b[1;32m      2\u001b[0m     \u001b[0mLCC1\u001b[0m\u001b[0;34m=\u001b[0m\u001b[0mnx\u001b[0m\u001b[0;34m.\u001b[0m\u001b[0mGraph\u001b[0m\u001b[0;34m(\u001b[0m\u001b[0;34m)\u001b[0m\u001b[0;34m\u001b[0m\u001b[0;34m\u001b[0m\u001b[0m\n\u001b[0;32m----> 3\u001b[0;31m     \u001b[0mc\u001b[0m\u001b[0;34m=\u001b[0m\u001b[0mmax\u001b[0m\u001b[0;34m(\u001b[0m\u001b[0mnx\u001b[0m\u001b[0;34m.\u001b[0m\u001b[0mconnected_components\u001b[0m\u001b[0;34m(\u001b[0m\u001b[0mGn1\u001b[0m\u001b[0;34m)\u001b[0m\u001b[0;34m,\u001b[0m\u001b[0mkey\u001b[0m\u001b[0;34m=\u001b[0m\u001b[0mlen\u001b[0m\u001b[0;34m)\u001b[0m\u001b[0;34m\u001b[0m\u001b[0;34m\u001b[0m\u001b[0m\n\u001b[0m\u001b[1;32m      4\u001b[0m     \u001b[0mc\u001b[0m\u001b[0;34m=\u001b[0m\u001b[0mlist\u001b[0m\u001b[0;34m(\u001b[0m\u001b[0mc\u001b[0m\u001b[0;34m)\u001b[0m\u001b[0;34m\u001b[0m\u001b[0;34m\u001b[0m\u001b[0m\n\u001b[1;32m      5\u001b[0m     \u001b[0mLCC1\u001b[0m\u001b[0;34m=\u001b[0m\u001b[0mGn1\u001b[0m\u001b[0;34m.\u001b[0m\u001b[0msubgraph\u001b[0m\u001b[0;34m(\u001b[0m\u001b[0mc\u001b[0m\u001b[0;34m)\u001b[0m\u001b[0;34m.\u001b[0m\u001b[0mcopy\u001b[0m\u001b[0;34m(\u001b[0m\u001b[0;34m)\u001b[0m\u001b[0;34m\u001b[0m\u001b[0;34m\u001b[0m\u001b[0m\n",
      "\u001b[0;32m<decorator-gen-294>\u001b[0m in \u001b[0;36mconnected_components\u001b[0;34m(G)\u001b[0m\n",
      "\u001b[0;32m/opt/anaconda3/lib/python3.8/site-packages/networkx/utils/decorators.py\u001b[0m in \u001b[0;36m_not_implemented_for\u001b[0;34m(not_implement_for_func, *args, **kwargs)\u001b[0m\n\u001b[1;32m     61\u001b[0m             \u001b[0;34m\"directed\"\u001b[0m\u001b[0;34m:\u001b[0m \u001b[0mgraph\u001b[0m\u001b[0;34m.\u001b[0m\u001b[0mis_directed\u001b[0m\u001b[0;34m(\u001b[0m\u001b[0;34m)\u001b[0m\u001b[0;34m,\u001b[0m\u001b[0;34m\u001b[0m\u001b[0;34m\u001b[0m\u001b[0m\n\u001b[1;32m     62\u001b[0m             \u001b[0;34m\"undirected\"\u001b[0m\u001b[0;34m:\u001b[0m \u001b[0;32mnot\u001b[0m \u001b[0mgraph\u001b[0m\u001b[0;34m.\u001b[0m\u001b[0mis_directed\u001b[0m\u001b[0;34m(\u001b[0m\u001b[0;34m)\u001b[0m\u001b[0;34m,\u001b[0m\u001b[0;34m\u001b[0m\u001b[0;34m\u001b[0m\u001b[0m\n\u001b[0;32m---> 63\u001b[0;31m             \u001b[0;34m\"multigraph\"\u001b[0m\u001b[0;34m:\u001b[0m \u001b[0mgraph\u001b[0m\u001b[0;34m.\u001b[0m\u001b[0mis_multigraph\u001b[0m\u001b[0;34m(\u001b[0m\u001b[0;34m)\u001b[0m\u001b[0;34m,\u001b[0m\u001b[0;34m\u001b[0m\u001b[0;34m\u001b[0m\u001b[0m\n\u001b[0m\u001b[1;32m     64\u001b[0m             \u001b[0;34m\"graph\"\u001b[0m\u001b[0;34m:\u001b[0m \u001b[0;32mnot\u001b[0m \u001b[0mgraph\u001b[0m\u001b[0;34m.\u001b[0m\u001b[0mis_multigraph\u001b[0m\u001b[0;34m(\u001b[0m\u001b[0;34m)\u001b[0m\u001b[0;34m,\u001b[0m\u001b[0;34m\u001b[0m\u001b[0;34m\u001b[0m\u001b[0m\n\u001b[1;32m     65\u001b[0m         }\n",
      "\u001b[0;31mAttributeError\u001b[0m: 'Graph' object has no attribute 'is_multigraph'"
     ]
    }
   ],
   "source": [
    "def pl_cdf(Gn1,Gn2,Gn3):\n",
    "    LCC1=nx.Graph()\n",
    "    c=max(nx.connected_components(Gn1),key=len)\n",
    "    c=list(c)\n",
    "    LCC1=Gn1.subgraph(c).copy()\n",
    "\n",
    "    pl1={}\n",
    "    for i in LCC1.nodes:\n",
    "        for j in LCC1.nodes:\n",
    "            t=nx.shortest_path_length(LCC1,i,j)\n",
    "            if t!=0:\n",
    "                if t not in pl1:\n",
    "                    pl1[t]=1\n",
    "                else:\n",
    "                    pl1[t]+=1\n",
    "\n",
    "    LCC2=nx.Graph()\n",
    "    c=max(nx.connected_components(Gn2),key=len)\n",
    "    c=list(c)\n",
    "    LCC2=Gn2.subgraph(c).copy()\n",
    "\n",
    "    pl2={}\n",
    "    for i in LCC2.nodes:\n",
    "        for j in LCC2.nodes:\n",
    "            t=nx.shortest_path_length(LCC2,i,j)\n",
    "            if t!=0:\n",
    "                if t not in pl2:\n",
    "                    pl2[t]=1\n",
    "                else:\n",
    "                    pl2[t]+=1\n",
    "\n",
    "    LCC3=nx.Graph()\n",
    "    c=max(nx.connected_components(Gn3),key=len)\n",
    "    c=list(c)\n",
    "    LCC3=Gn3.subgraph(c).copy()\n",
    "\n",
    "    pl3={}\n",
    "    for i in LCC3.nodes:\n",
    "        for j in LCC3.nodes:\n",
    "            t=nx.shortest_path_length(LCC3,i,j)\n",
    "            if t!=0:\n",
    "                if t not in pl3:\n",
    "                    pl3[t]=1\n",
    "                else:\n",
    "                    pl3[t]+=1\n",
    "                    \n",
    "                    \n",
    "    PL1={\n",
    "        'path_length':[],\n",
    "        'num_of_path_length':[]\n",
    "    }\n",
    "    for i in pl1:\n",
    "        PL1['path_length'].append(i)\n",
    "        PL1['num_of_path_length'].append(pl1[i])\n",
    "    test=pd.DataFrame(PL1)\n",
    "    test.to_csv('/users/sds/downloads/path_length1.csv')\n",
    "\n",
    "    PL2={\n",
    "        'path_length':[],\n",
    "        'num_of_path_length':[]\n",
    "    }\n",
    "    for i in pl2:\n",
    "        PL2['path_length'].append(i)\n",
    "        PL2['num_of_path_length'].append(pl2[i])\n",
    "    test=pd.DataFrame(PL2)\n",
    "    test.to_csv('/users/sds/downloads/path_length2.csv')\n",
    "    \n",
    "    PL3={\n",
    "        'path_length':[],\n",
    "        'num_of_path_length':[]\n",
    "    }\n",
    "    for i in pl3:\n",
    "        PL3['path_length'].append(i)\n",
    "        PL3['num_of_path_length'].append(pl3[i])\n",
    "    test=pd.DataFrame(PL3)\n",
    "    test.to_csv('/users/sds/downloads/path_length3.csv')\n",
    "    \n",
    "pl_cdf(G2,GK,GD)"
   ]
  },
  {
   "cell_type": "code",
   "execution_count": 59,
   "metadata": {},
   "outputs": [],
   "source": [
    "G3=eg.Graph()\n",
    "\n",
    "nodes=[]\n",
    "nodes_attr=[]\n",
    "edges=[]\n",
    "edges_attr=[]\n",
    "f=open('faculty-coauthors.csv','r')\n",
    "next(f)\n",
    "csv_reader=csv.reader(f)\n",
    "for row in csv_reader:\n",
    "    i=str(row[0])\n",
    "    j=str(row[3])\n",
    "\n",
    "    if (i,j) in edges:\n",
    "        index=edges.index((i,j))\n",
    "        edges_attr[index]['weight']+=1\n",
    "    else:\n",
    "        i_affifiation=str(row[1])\n",
    "        i_country=str(row[2])\n",
    "        j_affifiation=str(row[4])\n",
    "        j_country=str(row[5])\n",
    "        year=int(row[6])\n",
    "        area=str(row[7])\n",
    "\n",
    "        nodes.append(i)\n",
    "        temp1={}\n",
    "        temp1['affiliation']=i_affifiation\n",
    "        temp1['country']=i_country\n",
    "        nodes_attr.append(temp1)\n",
    "\n",
    "        nodes.append(j)\n",
    "        temp2={}\n",
    "        temp2['affiliation']=j_affifiation\n",
    "        temp2['country']=j_country\n",
    "        nodes_attr.append(temp2)\n",
    "\n",
    "        edges.append((i,j))\n",
    "        temp3={}\n",
    "        temp3['weight']=1\n",
    "        temp3['year']=year\n",
    "        temp3['area']=area\n",
    "        edges_attr.append(temp3)\n",
    "\n",
    "G3.add_nodes(nodes,nodes_attr)\n",
    "G3.add_edges(edges,edges_attr)\n"
   ]
  },
  {
   "cell_type": "code",
   "execution_count": 62,
   "metadata": {
    "scrolled": true
   },
   "outputs": [
    {
     "ename": "AttributeError",
     "evalue": "'Graph' object has no attribute 'is_multigraph'",
     "output_type": "error",
     "traceback": [
      "\u001b[0;31m---------------------------------------------------------------------------\u001b[0m",
      "\u001b[0;31mAttributeError\u001b[0m                            Traceback (most recent call last)",
      "\u001b[0;32m<ipython-input-62-ca5aab7340c7>\u001b[0m in \u001b[0;36m<module>\u001b[0;34m\u001b[0m\n\u001b[1;32m     26\u001b[0m \u001b[0;34m\u001b[0m\u001b[0m\n\u001b[1;32m     27\u001b[0m \u001b[0;34m\u001b[0m\u001b[0m\n\u001b[0;32m---> 28\u001b[0;31m \u001b[0mpl_cdf\u001b[0m\u001b[0;34m(\u001b[0m\u001b[0mG3\u001b[0m\u001b[0;34m)\u001b[0m\u001b[0;34m\u001b[0m\u001b[0;34m\u001b[0m\u001b[0m\n\u001b[0m",
      "\u001b[0;32m<ipython-input-62-ca5aab7340c7>\u001b[0m in \u001b[0;36mpl_cdf\u001b[0;34m(Gn1)\u001b[0m\n\u001b[1;32m      1\u001b[0m \u001b[0;32mdef\u001b[0m \u001b[0mpl_cdf\u001b[0m\u001b[0;34m(\u001b[0m\u001b[0mGn1\u001b[0m\u001b[0;34m)\u001b[0m\u001b[0;34m:\u001b[0m\u001b[0;34m\u001b[0m\u001b[0;34m\u001b[0m\u001b[0m\n\u001b[1;32m      2\u001b[0m     \u001b[0mLCC1\u001b[0m\u001b[0;34m=\u001b[0m\u001b[0mnx\u001b[0m\u001b[0;34m.\u001b[0m\u001b[0mGraph\u001b[0m\u001b[0;34m(\u001b[0m\u001b[0;34m)\u001b[0m\u001b[0;34m\u001b[0m\u001b[0;34m\u001b[0m\u001b[0m\n\u001b[0;32m----> 3\u001b[0;31m     \u001b[0mc\u001b[0m\u001b[0;34m=\u001b[0m\u001b[0mmax\u001b[0m\u001b[0;34m(\u001b[0m\u001b[0mnx\u001b[0m\u001b[0;34m.\u001b[0m\u001b[0mconnected_components\u001b[0m\u001b[0;34m(\u001b[0m\u001b[0mGn1\u001b[0m\u001b[0;34m)\u001b[0m\u001b[0;34m,\u001b[0m\u001b[0mkey\u001b[0m\u001b[0;34m=\u001b[0m\u001b[0mlen\u001b[0m\u001b[0;34m)\u001b[0m\u001b[0;34m\u001b[0m\u001b[0;34m\u001b[0m\u001b[0m\n\u001b[0m\u001b[1;32m      4\u001b[0m     \u001b[0mc\u001b[0m\u001b[0;34m=\u001b[0m\u001b[0mlist\u001b[0m\u001b[0;34m(\u001b[0m\u001b[0mc\u001b[0m\u001b[0;34m)\u001b[0m\u001b[0;34m\u001b[0m\u001b[0;34m\u001b[0m\u001b[0m\n\u001b[1;32m      5\u001b[0m     \u001b[0mLCC1\u001b[0m\u001b[0;34m=\u001b[0m\u001b[0mGn1\u001b[0m\u001b[0;34m.\u001b[0m\u001b[0msubgraph\u001b[0m\u001b[0;34m(\u001b[0m\u001b[0mc\u001b[0m\u001b[0;34m)\u001b[0m\u001b[0;34m.\u001b[0m\u001b[0mcopy\u001b[0m\u001b[0;34m(\u001b[0m\u001b[0;34m)\u001b[0m\u001b[0;34m\u001b[0m\u001b[0;34m\u001b[0m\u001b[0m\n",
      "\u001b[0;32m<decorator-gen-294>\u001b[0m in \u001b[0;36mconnected_components\u001b[0;34m(G)\u001b[0m\n",
      "\u001b[0;32m/opt/anaconda3/lib/python3.8/site-packages/networkx/utils/decorators.py\u001b[0m in \u001b[0;36m_not_implemented_for\u001b[0;34m(not_implement_for_func, *args, **kwargs)\u001b[0m\n\u001b[1;32m     61\u001b[0m             \u001b[0;34m\"directed\"\u001b[0m\u001b[0;34m:\u001b[0m \u001b[0mgraph\u001b[0m\u001b[0;34m.\u001b[0m\u001b[0mis_directed\u001b[0m\u001b[0;34m(\u001b[0m\u001b[0;34m)\u001b[0m\u001b[0;34m,\u001b[0m\u001b[0;34m\u001b[0m\u001b[0;34m\u001b[0m\u001b[0m\n\u001b[1;32m     62\u001b[0m             \u001b[0;34m\"undirected\"\u001b[0m\u001b[0;34m:\u001b[0m \u001b[0;32mnot\u001b[0m \u001b[0mgraph\u001b[0m\u001b[0;34m.\u001b[0m\u001b[0mis_directed\u001b[0m\u001b[0;34m(\u001b[0m\u001b[0;34m)\u001b[0m\u001b[0;34m,\u001b[0m\u001b[0;34m\u001b[0m\u001b[0;34m\u001b[0m\u001b[0m\n\u001b[0;32m---> 63\u001b[0;31m             \u001b[0;34m\"multigraph\"\u001b[0m\u001b[0;34m:\u001b[0m \u001b[0mgraph\u001b[0m\u001b[0;34m.\u001b[0m\u001b[0mis_multigraph\u001b[0m\u001b[0;34m(\u001b[0m\u001b[0;34m)\u001b[0m\u001b[0;34m,\u001b[0m\u001b[0;34m\u001b[0m\u001b[0;34m\u001b[0m\u001b[0m\n\u001b[0m\u001b[1;32m     64\u001b[0m             \u001b[0;34m\"graph\"\u001b[0m\u001b[0;34m:\u001b[0m \u001b[0;32mnot\u001b[0m \u001b[0mgraph\u001b[0m\u001b[0;34m.\u001b[0m\u001b[0mis_multigraph\u001b[0m\u001b[0;34m(\u001b[0m\u001b[0;34m)\u001b[0m\u001b[0;34m,\u001b[0m\u001b[0;34m\u001b[0m\u001b[0;34m\u001b[0m\u001b[0m\n\u001b[1;32m     65\u001b[0m         }\n",
      "\u001b[0;31mAttributeError\u001b[0m: 'Graph' object has no attribute 'is_multigraph'"
     ]
    }
   ],
   "source": [
    "def pl_cdf(Gn1):\n",
    "    LCC1=nx.Graph()\n",
    "    c=max(nx.connected_components(Gn1),key=len)\n",
    "    c=list(c)\n",
    "    LCC1=Gn1.subgraph(c).copy()\n",
    "\n",
    "    pl1={}\n",
    "    for i in LCC1.nodes:\n",
    "        for j in LCC1.nodes:\n",
    "            t=nx.shortest_path_length(LCC1,i,j)\n",
    "            if t!=0:\n",
    "                if t not in pl1:\n",
    "                    pl1[t]=1\n",
    "                else:\n",
    "                    pl1[t]+=1\n",
    "\n",
    "    PL1={\n",
    "        'path_length':[],\n",
    "        'num_of_path_length':[]\n",
    "    }\n",
    "    for i in pl1:\n",
    "        PL1['path_length'].append(i)\n",
    "        PL1['num_of_path_length'].append(pl1[i])\n",
    "    test=pd.DataFrame(PL1)\n",
    "    test.to_csv('/users/sds/downloads/path_length.csv')\n",
    "\n",
    "    \n",
    "pl_cdf(G3)"
   ]
  },
  {
   "cell_type": "code",
   "execution_count": 63,
   "metadata": {},
   "outputs": [
    {
     "data": {
      "text/plain": [
       "2721"
      ]
     },
     "execution_count": 63,
     "metadata": {},
     "output_type": "execute_result"
    }
   ],
   "source": [
    "len(G3)"
   ]
  },
  {
   "cell_type": "code",
   "execution_count": 64,
   "metadata": {},
   "outputs": [
    {
     "data": {
      "text/plain": [
       "4845"
      ]
     },
     "execution_count": 64,
     "metadata": {},
     "output_type": "execute_result"
    }
   ],
   "source": [
    "G3.size()"
   ]
  },
  {
   "cell_type": "code",
   "execution_count": 9,
   "metadata": {},
   "outputs": [],
   "source": [
    "import networkx as nx\n",
    "\n",
    "def test(G):\n",
    "    sum=0\n",
    "    D=G.degree()\n",
    "    for i in D:\n",
    "        sum+=D[i]\n",
    "    print(sum,sum/len(D))\n",
    "    \n",
    "    Gn=nx.Graph()\n",
    "    for i in G.edges:\n",
    "        (u,v,t)=i\n",
    "        Gn.add_edge(u,v)\n",
    "\n",
    "    C=nx.clustering(Gn)\n",
    "    sum=0\n",
    "    for i in C:\n",
    "        sum+=C[i]\n",
    "    print(sum,sum/len(C))\n",
    "\n"
   ]
  },
  {
   "cell_type": "code",
   "execution_count": 10,
   "metadata": {},
   "outputs": [
    {
     "name": "stdout",
     "output_type": "stream",
     "text": [
      "2468038 8.907504854298852\n",
      "79612.61903519084 0.2873334164706571\n"
     ]
    }
   ],
   "source": [
    "GG=eg.Graph()\n",
    "GG.add_edges_from_file('google_scholar_edges.txt')\n",
    "test(GG)\n"
   ]
  },
  {
   "cell_type": "code",
   "execution_count": 11,
   "metadata": {},
   "outputs": [
    {
     "name": "stdout",
     "output_type": "stream",
     "text": [
      "9690 3.5611907386990076\n",
      "2061.43805358157 0.7576031067921977\n"
     ]
    }
   ],
   "source": [
    "test(G1)"
   ]
  },
  {
   "cell_type": "code",
   "execution_count": null,
   "metadata": {},
   "outputs": [],
   "source": []
  }
 ],
 "metadata": {
  "kernelspec": {
   "display_name": "Python 3",
   "language": "python",
   "name": "python3"
  },
  "language_info": {
   "codemirror_mode": {
    "name": "ipython",
    "version": 3
   },
   "file_extension": ".py",
   "mimetype": "text/x-python",
   "name": "python",
   "nbconvert_exporter": "python",
   "pygments_lexer": "ipython3",
   "version": "3.8.5"
  }
 },
 "nbformat": 4,
 "nbformat_minor": 4
}
