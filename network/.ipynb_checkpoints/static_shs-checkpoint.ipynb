{
 "cells": [
  {
   "cell_type": "code",
   "execution_count": null,
   "metadata": {},
   "outputs": [],
   "source": [
    "import easygraph as eg\n",
    "import csv\n",
    "import pandas as pd\n",
    "import networkx as nx\n",
    "\n",
    "def make_graph(filepath:str):\n",
    "    G=eg.Graph()\n",
    "    nodes=[]\n",
    "    nodes_attr=[]\n",
    "    edges=[]\n",
    "    edges_attr=[]\n",
    "    f=open(filepath,'r')\n",
    "    next(f)\n",
    "    csv_reader=csv.reader(f)\n",
    "    for row in csv_reader:\n",
    "        i=str(row[0])\n",
    "        i_affifiation=str(row[1])\n",
    "        i_country=str(row[2])\n",
    "        j=str(row[3])\n",
    "        j_affifiation=str(row[4])\n",
    "        j_country=str(row[5])\n",
    "        year=int(row[6])\n",
    "        area=str(row[7])\n",
    "\n",
    "        nodes.append(i)\n",
    "        temp1={}\n",
    "        temp1['affiliation']=i_affifiation\n",
    "        temp1['country']=i_country\n",
    "        nodes_attr.append(temp1)\n",
    "\n",
    "        nodes.append(j)\n",
    "        temp2={}\n",
    "        temp2['affiliation']=j_affifiation\n",
    "        temp2['country']=j_country\n",
    "        nodes_attr.append(temp2)\n",
    "\n",
    "        edges.append((i,j))\n",
    "        temp3={}\n",
    "        temp3['year']=year\n",
    "        temp3['area']=area\n",
    "        edges_attr.append(temp3)\n",
    "\n",
    "    G.add_nodes(nodes,nodes_attr)\n",
    "    G.add_edges(edges,edges_attr)\n",
    "    return G\n"
   ]
  },
  {
   "cell_type": "code",
   "execution_count": null,
   "metadata": {},
   "outputs": [],
   "source": [
    "# author\n",
    "G1=make_graph('faculty-coauthors.csv')"
   ]
  }
 ],
 "metadata": {
  "kernelspec": {
   "display_name": "Python 3",
   "language": "python",
   "name": "python3"
  },
  "language_info": {
   "codemirror_mode": {
    "name": "ipython",
    "version": 3
   },
   "file_extension": ".py",
   "mimetype": "text/x-python",
   "name": "python",
   "nbconvert_exporter": "python",
   "pygments_lexer": "ipython3",
   "version": "3.8.5"
  }
 },
 "nbformat": 4,
 "nbformat_minor": 4
}
