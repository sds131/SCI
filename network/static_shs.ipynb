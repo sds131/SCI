{
 "cells": [
  {
   "cell_type": "code",
   "execution_count": 1,
   "metadata": {},
   "outputs": [],
   "source": [
    "import easygraph as eg\n",
    "import csv\n",
    "import pandas as pd\n",
    "import networkx as nx\n",
    "\n",
    "def make_graph(filepath:str):\n",
    "    G=eg.Graph()\n",
    "    nodes=[]\n",
    "    nodes_attr=[]\n",
    "    edges=[]\n",
    "    edges_attr=[]\n",
    "    f=open(filepath,'r')\n",
    "    next(f)\n",
    "    csv_reader=csv.reader(f)\n",
    "    for row in csv_reader:\n",
    "        i=str(row[0])\n",
    "        i_affifiation=str(row[1])\n",
    "        i_country=str(row[2])\n",
    "        j=str(row[3])\n",
    "        j_affifiation=str(row[4])\n",
    "        j_country=str(row[5])\n",
    "        year=int(row[6])\n",
    "        area=str(row[7])\n",
    "\n",
    "        nodes.append(i)\n",
    "        temp1={}\n",
    "        temp1['affiliation']=i_affifiation\n",
    "        temp1['country']=i_country\n",
    "        nodes_attr.append(temp1)\n",
    "\n",
    "        nodes.append(j)\n",
    "        temp2={}\n",
    "        temp2['affiliation']=j_affifiation\n",
    "        temp2['country']=j_country\n",
    "        nodes_attr.append(temp2)\n",
    "\n",
    "        edges.append((i,j))\n",
    "        temp3={}\n",
    "        temp3['year']=year\n",
    "        temp3['area']=area\n",
    "        edges_attr.append(temp3)\n",
    "\n",
    "    G.add_nodes(nodes,nodes_attr)\n",
    "    G.add_edges(edges,edges_attr)\n",
    "    return G\n"
   ]
  },
  {
   "cell_type": "code",
   "execution_count": 2,
   "metadata": {},
   "outputs": [],
   "source": [
    "# author\n",
    "G1=make_graph('faculty-coauthors.csv')"
   ]
  },
  {
   "cell_type": "code",
   "execution_count": 3,
   "metadata": {},
   "outputs": [],
   "source": [
    "SHS=sorted(eg.constraint(G1).items(), key=lambda d: d[1])"
   ]
  },
  {
   "cell_type": "code",
   "execution_count": 4,
   "metadata": {},
   "outputs": [],
   "source": [
    "import random\n",
    "con=eg.constraint(G1)\n",
    "con=sorted(con.items(), key=lambda d: d[1])\n",
    "\n",
    "\n",
    "SHS1=[]\n",
    "nonSHS1=[]\n",
    "\n",
    "kk=int(len(G1)*0.05)\n",
    "k=0\n",
    "for i in con:\n",
    "    if k<kk:\n",
    "        SHS1.append(i[0])\n",
    "        k+=1\n",
    "    else:\n",
    "        break\n",
    "        \n",
    "random.seed(0)\n",
    "while len(nonSHS1)<kk:\n",
    "    t=random.sample(con, 1)\n",
    "    if t[0][0] not in SHS1 and t[0][0] not in nonSHS1:\n",
    "        nonSHS1.append(t[0][0])\n",
    "        "
   ]
  },
  {
   "cell_type": "code",
   "execution_count": 5,
   "metadata": {},
   "outputs": [
    {
     "name": "stdout",
     "output_type": "stream",
     "text": [
      "['Fei-Yue Wang 0001', 'Tom A. B. Snijders', 'Johan H. Koskinen', 'Garry Robins', 'Xiao Wang 0002', 'Stephen P. Borgatti', 'Yong Yuan', 'Peng Wang 0002', 'Feng Xia 0001', 'Shui Yu', 'Qingpeng Zhang', 'Niloy Ganguly', 'Alessandro Lomi', 'Christian Steglich', 'Filip Agneessens', 'Philippa Pattison', 'Kathleen M. Carley', 'Gautam Srivastava', 'Weili Wu', 'V. S. Subrahmanian', 'Emmanuel Lazega', 'Jun Jason Zhang', 'Zhipeng Cai 0001', 'Ulrik Brandes', 'Laurence T. Yang', 'Christoph Stadtfeld', 'Giuseppe (Joe) Labianca', 'Juanjuan Li', 'Lianyong Qi', 'Patrick Doreian', 'Ding-Zhu Du', 'Dongpu Cao', 'Yisheng Lv', 'Carter T. Butts', 'Christopher McCarty', 'Shahid Mumtaz', 'Vincent Buskens', 'Carlo Morselli', 'Marijtje A. J. Van Duijn', 'Lifang Li', 'René Veenstra', 'Thomas W. Valente', 'Noshir S. Contractor', 'Bruce A. Desmarais', 'Galina Daraganova', 'Martin Bouchard 0002', 'Gang Xiong 0001', 'Yulei Wu', 'Shuangshuang Han', 'Rense Corten', 'Martin G. Everett', 'Pip Pattison', 'Jinyin Chen', 'Shaohua Wan', 'Mark Tranmer', 'Lingxi Li', 'Robin I. M. Dunbar', 'Tobias H. Stark', 'Dean Lusher', 'José Luis Molina', 'Yang-chih Fu', 'Jianqiang Li 0001', 'Jiachen Hou', 'Qingchun Lu', 'Yishi Lee', 'Fenghua Zhu', 'John Skvoretz', 'Mianxiong Dong', 'Kaoru Ota', 'Chau Yuen', 'Jianxin Li 0001', 'Changjun Jiang', 'Yunpeng Xiao', 'Min Zhou 0003', 'David A. Rolls', 'Jürgen Lerner', 'Shuai Wang 0005', 'Károly Takács', 'Xiaolong Xu 0001', 'Wanlei Zhou', 'Zsófia Boda', 'David R. Schaefer', 'Xiangjie Kong 0001', 'Eric Quintane', 'Mengchu Zhou', 'Guangmo Tong', 'Kayo Fujimoto', 'Markus Strohmaier', 'Sourav Kumar Dandapat', 'Joydeep Chandra', 'Pamela J. Wisniewski', 'Wei Duan', 'Kelvin Kam-fai Tsoi', 'Tianlu Gao', 'Li Da Xu', 'Liwei Ouyang', 'Peijun Ye', 'Sam G. B. Roberts', 'Francesca Pallotti', 'MengChu Zhou', 'Bivas Mitra', 'Anuska Ferligoj', 'Jun Wu 0001', 'Geyong Min', 'Lijia Ma', 'Maoguo Gong', 'András Vörös 0002', 'Runhe Huang', 'Shancang Li', 'Kayla de la Haye', 'Bernie Hogan', 'Shanqing Yu', 'Chungang Yan', 'Xuyun Zhang', 'Mark Handcock', 'John R. Hipp', 'Matthew E. Brashears', 'Petros A. Ioannou', 'Miguel Ángel Sotelo', 'Shuo Yu', 'Per Block', 'Zhendong Niu', 'Weichao Gong', 'Kaize Shi', 'Hao Lu 0002', 'John A. Schneider', 'Tianyu Qiu', 'Shuo Liu 0005', 'Miranda J. Lubbers', 'Cheng Wang 0001', 'Frank van Tubergen', 'Marcel A. L. M. van Assen', 'Katherine Faust', 'Hoang Pham', 'Zhong Ming 0001', 'Rob Cross']\n"
     ]
    }
   ],
   "source": [
    "print(SHS1)"
   ]
  },
  {
   "cell_type": "code",
   "execution_count": null,
   "metadata": {},
   "outputs": [],
   "source": [
    "List={}\n",
    "for i in range(0,len(SHS1)):\n",
    "    List[SHS1[i]]={}\n",
    "    "
   ]
  }
 ],
 "metadata": {
  "kernelspec": {
   "display_name": "Python 3",
   "language": "python",
   "name": "python3"
  },
  "language_info": {
   "codemirror_mode": {
    "name": "ipython",
    "version": 3
   },
   "file_extension": ".py",
   "mimetype": "text/x-python",
   "name": "python",
   "nbconvert_exporter": "python",
   "pygments_lexer": "ipython3",
   "version": "3.8.5"
  }
 },
 "nbformat": 4,
 "nbformat_minor": 4
}
