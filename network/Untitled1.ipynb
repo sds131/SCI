{
 "cells": [
  {
   "cell_type": "code",
   "execution_count": 21,
   "metadata": {},
   "outputs": [],
   "source": [
    "import easygraph as eg\n",
    "import csv\n",
    "import pandas as pd\n",
    "\n",
    "\n",
    "def make_graph(journal:str,time:list):\n",
    "    G=eg.Graph()\n",
    "    nodes=[]\n",
    "    nodes_attr=[]\n",
    "    edges=[]\n",
    "    edges_attr=[]\n",
    "    f=open('faculty-coauthors.csv','r')\n",
    "    next(f)\n",
    "    csv_reader=csv.reader(f)\n",
    "    for row in csv_reader:\n",
    "        if(int(row[6]) in time and str(row[7])==journal):\n",
    "            i=str(row[0])\n",
    "            i_affifiation=str(row[1])\n",
    "            i_country=str(row[2])\n",
    "            j=str(row[3])\n",
    "            j_affifiation=str(row[4])\n",
    "            j_country=str(row[5])\n",
    "            year=int(row[6])\n",
    "            area=str(row[7])\n",
    "\n",
    "            nodes.append(i)\n",
    "            temp1={}\n",
    "            temp1['affiliation']=i_affifiation\n",
    "            temp1['country']=i_country\n",
    "            nodes_attr.append(temp1)\n",
    "\n",
    "            nodes.append(j)\n",
    "            temp2={}\n",
    "            temp2['affiliation']=j_affifiation\n",
    "            temp2['country']=j_country\n",
    "            nodes_attr.append(temp2)\n",
    "\n",
    "            edges.append((i,j))\n",
    "            temp3={}\n",
    "            temp3['year']=year\n",
    "            temp3['area']=area\n",
    "            edges_attr.append(temp3)\n",
    "\n",
    "    G.add_nodes(nodes,nodes_attr)\n",
    "    G.add_edges(edges,edges_attr)\n",
    "    return G\n",
    "\n"
   ]
  },
  {
   "cell_type": "code",
   "execution_count": 22,
   "metadata": {},
   "outputs": [],
   "source": [
    "# draw weight journal year\n",
    "# 14-21 18-21 99-21\n",
    "# tcss tsc socnet\n",
    "# country\n",
    "\n",
    "\"\"\"\n",
    "# tcss - 2014-2017\n",
    "time=[2014,2015,2016,2017]\n",
    "G1=make_graph('tcss',time)\n",
    "# tcss - 2018-2021\n",
    "time=[2018,2019,2020,2021]\n",
    "G2=make_graph('tcss',time)\n",
    "\"\"\"\n",
    "\n",
    "\"\"\"\n",
    "# tsc - 2018-2019\n",
    "time=[2018,2019]\n",
    "G1=make_graph('tsc',time)\n",
    "# tsc - 2020-2021\n",
    "time=[2020,2021]\n",
    "G2=make_graph('tsc',time)\n",
    "\"\"\"\n",
    "\n",
    "# socnet - 1999-2010\n",
    "time=[1999,2000,2001,2002,2003,2004,2005,2006,2007,2008,2009,2010]\n",
    "G1=make_graph('socnet',time)\n",
    "# socnet - 2010-2021\n",
    "time=[2011,2012,2013,2014,2015,2016,2017,2018,2019,2020,2021]\n",
    "G2=make_graph('socnet',time)"
   ]
  },
  {
   "cell_type": "code",
   "execution_count": 35,
   "metadata": {},
   "outputs": [
    {
     "name": "stdout",
     "output_type": "stream",
     "text": [
      "327 1007\n"
     ]
    }
   ],
   "source": [
    "print(len(G1),len(G2))"
   ]
  },
  {
   "cell_type": "code",
   "execution_count": 36,
   "metadata": {},
   "outputs": [
    {
     "name": "stdout",
     "output_type": "stream",
     "text": [
      "414 1552\n"
     ]
    }
   ],
   "source": [
    "print(G1.size(),G2.size())"
   ]
  },
  {
   "cell_type": "code",
   "execution_count": 25,
   "metadata": {},
   "outputs": [],
   "source": [
    "def country_list(G):\n",
    "    country={}\n",
    "    for i in G.nodes:\n",
    "        if G.nodes[i]['country'] not in country.keys():\n",
    "            country[G.nodes[i]['country']]=1\n",
    "        else:\n",
    "            country[G.nodes[i]['country']]+=1\n",
    "    return country\n",
    "country1=country_list(G1)\n",
    "country1=sorted(country_list(G1).items(), key=lambda d: d[1],reverse=True)\n",
    "country2=country_list(G2)\n",
    "country2=sorted(country_list(G2).items(), key=lambda d: d[1],reverse=True)"
   ]
  },
  {
   "cell_type": "code",
   "execution_count": 26,
   "metadata": {},
   "outputs": [
    {
     "name": "stdout",
     "output_type": "stream",
     "text": [
      "[('us', 170), ('nl', 49), ('uk', 16), ('fr', 13), ('fi', 9), ('si', 9), ('es', 8), ('de', 8), ('au', 6), ('ca', 5), ('it', 4), ('kr', 4), ('hk', 4), ('se', 3), ('jp', 3), ('il', 3), ('mx', 3), ('at', 2), ('be', 2), ('hu', 1), ('py', 1), ('ru', 1), ('th', 1), ('za', 1), ('ch', 1)]\n"
     ]
    }
   ],
   "source": [
    "print(country1)"
   ]
  },
  {
   "cell_type": "code",
   "execution_count": 27,
   "metadata": {},
   "outputs": [
    {
     "name": "stdout",
     "output_type": "stream",
     "text": [
      "[('us', 467), ('nl', 82), ('de', 52), ('uk', 50), ('it', 43), ('es', 37), ('cn', 28), ('be', 27), ('fr', 21), ('jp', 19), ('tw', 17), ('hu', 15), ('au', 14), ('se', 13), ('ie', 13), ('ca', 12), ('ch', 11), ('br', 10), ('in', 7), ('sg', 6), ('si', 6), ('il', 5), ('pt', 5), ('py', 5), ('hk', 4), ('at', 4), ('dk', 4), ('fi', 3), ('pl', 3), ('ir', 3), ('kr', 3), ('sa', 3), ('cl', 3), ('tr', 2), ('ua', 2), ('hr', 2), ('pk', 1), ('ru', 1), ('co', 1), ('et', 1), ('sn', 1), ('mx', 1)]\n"
     ]
    }
   ],
   "source": [
    "print(country2)"
   ]
  },
  {
   "cell_type": "code",
   "execution_count": 28,
   "metadata": {},
   "outputs": [],
   "source": [
    "import pandas as pd\n",
    "def degree_cdf(G1,G2):\n",
    "    D1=G1.degree()\n",
    "    D2=G2.degree()\n",
    "\n",
    "    data=[]\n",
    "    for i in D1:\n",
    "        data.append(D1[i])\n",
    "    for i in G1.nodes:\n",
    "        if i not in D1:\n",
    "            data.append(0)\n",
    "    test=pd.DataFrame(data)\n",
    "    test.to_csv('/users/sds/downloads/degree1.csv')\n",
    "\n",
    "    data=[]\n",
    "    for i in D2:\n",
    "        data.append(D2[i])\n",
    "    for i in G2.nodes:\n",
    "        if i not in D2:\n",
    "            data.append(0)\n",
    "    test=pd.DataFrame(data)\n",
    "    test.to_csv('/users/sds/downloads/degree2.csv')\n",
    "\n",
    "degree_cdf(G1,G2)"
   ]
  },
  {
   "cell_type": "code",
   "execution_count": 29,
   "metadata": {},
   "outputs": [],
   "source": [
    "import networkx as nx\n",
    "\n",
    "Gn1=nx.Graph()\n",
    "for i in G1.edges:\n",
    "    (u,v,t)=i\n",
    "    Gn1.add_edge(u,v)\n",
    "\n",
    "Gn2=nx.Graph()\n",
    "for i in G2.edges:\n",
    "    (u,v,t)=i\n",
    "    Gn2.add_edge(u,v)"
   ]
  },
  {
   "cell_type": "code",
   "execution_count": 30,
   "metadata": {},
   "outputs": [],
   "source": [
    "def cc_cdf(Gn1,Gn2):\n",
    "    C1=[]\n",
    "    for i in Gn1.nodes:\n",
    "        k=nx.clustering(Gn1,i)\n",
    "        C1.append(k)\n",
    "    test=pd.DataFrame(C1)\n",
    "    test.to_csv('/users/sds/downloads/clustering_coefficient1.csv')\n",
    "\n",
    "    C2=[]\n",
    "    for i in Gn2.nodes:\n",
    "        k=nx.clustering(Gn2,i)\n",
    "        C2.append(k)  \n",
    "    test=pd.DataFrame(C2)\n",
    "    test.to_csv('/users/sds/downloads/clustering_coefficient2.csv')\n",
    "\n",
    "cc_cdf(Gn1,Gn2)"
   ]
  },
  {
   "cell_type": "code",
   "execution_count": 31,
   "metadata": {},
   "outputs": [],
   "source": [
    "def pr_cdf(Gn1,Gn2):\n",
    "    P1=nx.pagerank(Gn1,alpha=0.85)\n",
    "    data=[]\n",
    "    for i in P1:\n",
    "        data.append(P1[i])\n",
    "    test=pd.DataFrame(data)\n",
    "    test.to_csv('/users/sds/downloads/pagerank1.csv')\n",
    "\n",
    "    P2=nx.pagerank(Gn2,alpha=0.85)\n",
    "    data=[]\n",
    "    for i in P2:\n",
    "        data.append(P2[i])\n",
    "    test=pd.DataFrame(data)\n",
    "    test.to_csv('/users/sds/downloads/pagerank2.csv')    \n",
    "\n",
    "pr_cdf(Gn1,Gn2)"
   ]
  },
  {
   "cell_type": "code",
   "execution_count": 32,
   "metadata": {},
   "outputs": [],
   "source": [
    "def cc_cdf(Gn1,Gn2):\n",
    "    CC1=[len(c) for c in sorted(nx.connected_components(Gn1), key=len, reverse=True)]\n",
    "    cc1={\n",
    "        'size_of_cc':[]\n",
    "    }\n",
    "    for i in CC1:\n",
    "        cc1['size_of_cc'].append(i)\n",
    "    test=pd.DataFrame(cc1)\n",
    "    test.to_csv('/users/sds/downloads/connected_components1.csv')\n",
    "\n",
    "    CC2=[len(c) for c in sorted(nx.connected_components(Gn2), key=len, reverse=True)]\n",
    "    cc2={\n",
    "        'size_of_cc':[]\n",
    "    }\n",
    "    for i in CC2:\n",
    "        cc2['size_of_cc'].append(i)\n",
    "    test=pd.DataFrame(cc2)\n",
    "    test.to_csv('/users/sds/downloads/connected_components2.csv')\n",
    "\n",
    "cc_cdf(Gn1,Gn2)"
   ]
  },
  {
   "cell_type": "code",
   "execution_count": 33,
   "metadata": {},
   "outputs": [],
   "source": [
    "def pl_cdf(Gn1,Gn2):\n",
    "    LCC1=nx.Graph()\n",
    "    c=max(nx.connected_components(Gn1),key=len)\n",
    "    c=list(c)\n",
    "    LCC1=Gn1.subgraph(c).copy()\n",
    "\n",
    "    pl1={}\n",
    "    for i in LCC1.nodes:\n",
    "        for j in LCC1.nodes:\n",
    "            t=nx.shortest_path_length(LCC1,i,j)\n",
    "            if t!=0:\n",
    "                if t not in pl1:\n",
    "                    pl1[t]=1\n",
    "                else:\n",
    "                    pl1[t]+=1\n",
    "\n",
    "    LCC2=nx.Graph()\n",
    "    c=max(nx.connected_components(Gn2),key=len)\n",
    "    c=list(c)\n",
    "    LCC2=Gn2.subgraph(c).copy()\n",
    "\n",
    "    pl2={}\n",
    "    for i in LCC2.nodes:\n",
    "        for j in LCC2.nodes:\n",
    "            t=nx.shortest_path_length(LCC2,i,j)\n",
    "            if t!=0:\n",
    "                if t not in pl2:\n",
    "                    pl2[t]=1\n",
    "                else:\n",
    "                    pl2[t]+=1\n",
    "\n",
    "    PL1={\n",
    "        'path_length':[],\n",
    "        'num_of_path_length':[]\n",
    "    }\n",
    "    for i in pl1:\n",
    "        PL1['path_length'].append(i)\n",
    "        PL1['num_of_path_length'].append(pl1[i])\n",
    "    test=pd.DataFrame(PL1)\n",
    "    test.to_csv('/users/sds/downloads/path_length1.csv')\n",
    "\n",
    "    PL2={\n",
    "        'path_length':[],\n",
    "        'num_of_path_length':[]\n",
    "    }\n",
    "    for i in pl2:\n",
    "        PL2['path_length'].append(i)\n",
    "        PL2['num_of_path_length'].append(pl2[i])\n",
    "    test=pd.DataFrame(PL2)\n",
    "    test.to_csv('/users/sds/downloads/path_length2.csv')\n",
    "    \n",
    "pl_cdf(Gn1,Gn2)"
   ]
  },
  {
   "cell_type": "code",
   "execution_count": 34,
   "metadata": {},
   "outputs": [],
   "source": [
    "import pandas as pd\n",
    "\n",
    "\n",
    "def burt(G):\n",
    "    effective_size=eg.effective_size(G)\n",
    "    efficiency=eg.efficiency(G)\n",
    "    constraint=eg.constraint(G)\n",
    "    hierarchy=eg.hierarchy(G)\n",
    "    betweenness_centrality=eg.betweenness_centrality(G)\n",
    "\n",
    "    data={\n",
    "        'constraint':[],\n",
    "        'effective_size':[],\n",
    "        'efficiency':[],\n",
    "        'hierarchy':[],\n",
    "        'betweenness_centrality':[]\n",
    "    }\n",
    "\n",
    "    for i in G:\n",
    "        data['constraint'].append(float(constraint[i]))\n",
    "        data['effective_size'].append(float(effective_size[i]))\n",
    "        data['efficiency'].append(float(efficiency[i]))\n",
    "        data['hierarchy'].append(float(hierarchy[i]))\n",
    "        data['betweenness_centrality'].append(betweenness_centrality[i])\n",
    "        \n",
    "    return pd.DataFrame(data)\n",
    "    \n",
    "burt(G1).to_csv('/users/sds/downloads/burt1.csv')\n",
    "burt(G2).to_csv('/users/sds/downloads/burt2.csv')"
   ]
  },
  {
   "cell_type": "code",
   "execution_count": null,
   "metadata": {},
   "outputs": [],
   "source": [
    "# main country bar\n",
    "\n",
    "# degree\n",
    "# betweenness centrality\n",
    "# effective size\n",
    "# efficiency\n",
    "# constraint\n",
    "# hierarchy\n",
    "# clustering coefficient\n",
    "# page rank\n",
    "# top10\n",
    "# page length\n",
    "# robustness\n",
    "\n",
    "# country 国家内\n",
    "# country1 and country2 国家间"
   ]
  },
  {
   "cell_type": "code",
   "execution_count": 38,
   "metadata": {},
   "outputs": [
    {
     "name": "stdout",
     "output_type": "stream",
     "text": [
      "[('Tom A. B. Snijders', 13), ('Garry Robins', 13), ('Christopher McCarty', 10), ('Stephen P. Borgatti', 9), ('Philippa Pattison', 9), ('Filip Agneessens', 8), ('Katherine Faust', 7), ('Marijtje A. J. Van Duijn', 7), ('Anuska Ferligoj', 7), ('Vincent Buskens', 7), ('John P. Boyd 0002', 6), ('José Luis Molina', 6), ('Miranda J. Lubbers', 6), ('Peng Wang 0002', 6), ('John Skvoretz', 6), ('Kathleen M. Carley', 5), ('Ulrik Brandes', 5), ('Jürgen Lerner', 5), ('Javier Ávila', 5), ('H. Russell Bernard', 5), ('Eugene C. Johnsen', 5), ('Yuval Kalish', 5), ('Kimmo Kaski', 5), ('Jari Saramäki', 5), ('Jukka-Pekka Onnela', 5), ('Mikko Kivelä', 5), ('Riitta Toivonen', 5), ('Lauri Kovanen', 5), ('Gerhard G. Van De Bunt', 5), ('Christian E. G. Steglich', 5), ('Mark S. Handcock', 5), ('Patrick Doreian', 5), ('William J. Fitzgerald 0002', 4), ('Robin I. M. Dunbar', 4), ('John Domini', 4), ('Gene A. Shelley', 4), ('Mark Handcock', 4), ('Pip Pattison', 4), ('Andreas Wimmer', 4), ('Marco Gonzalez', 4), ('Kevin Lewis', 4), ('Nicholas Christakis', 4), ('Jason Kaufman', 4), ('Stephen J. Walsh', 4), ('Yothin Sawangdee', 4), ('Barbara Entwisle', 4), ('Ronald R. Rindfuss', 4), ('Emmanuel Lazega', 4), ('Hein de Vries', 4), ('Erkki Vartiainen', 4), ('Liesbeth Mercken', 4), ('Kenneth A. Frank', 4), ('Kathryn Schiller', 4), ('Chandra Muller', 4), ('Sam Field', 4), ('Catherine Riegle-Crumb', 4), ('Germà Coenders', 4), ('Valentina Hlebec', 4), ('Darren C. Treadway', 4), ('Jacob W. Breland', 4), ('Laura A. Williams', 4), ('Garry L. Adams', 4), ('Allison B. Duke', 4), ('Andrea M. Hussong', 4), ('Karl E. Bauman', 4), ('Vangie A. Foshee', 4), ('Robert W. Faris', 4), ('Susan T. Ennett', 4), ('Henk Flap', 4), ('John M. Light', 4), ('Laura D. Hanish', 4), ('Richard A. Fabes', 4), ('Carol Lynn Martin', 4), ('David R. Schaefer', 4), ('David A. Smith', 3), ('Matthew C. Mahutga', 3), ('David Krackhardt', 3), ('Jukka Nyblom', 3), ('Juha Roslakka', 3), ('Mikko A. Salo', 3), ('Rob Cross', 3), ('Sam G. B. Roberts', 3), ('Thomas V. Pollet', 3), ('Toon Kuppens', 3), ('Sara Y. Del Valle', 3), ('James Mac Hyman', 3), ('Stephen G. Eubank', 3), ('Herbert W. Hethcote', 3), ('Phillip Bonacich', 3), ('Kayla de la Haye', 3), ('Carlene Wilson', 3), ('Philip Mohr', 3), ('Ken Sharpe', 3), ('Dean Lusher', 3), ('Barry Wellman', 3), ('Tore Opsahl', 3), ('David D. Rowlee', 3), ('Karin E. Willert', 3), ('Maurits de Klepper', 3), ('Ed Sleebos', 3), ('Rafaël Stofer', 3), ('Marie-Thérèse Jourda', 3), ('Lise Mounier', 3), ('Peter D. Hoff', 3), ('Pavel N. Krivitsky', 3), ('Adrian E. Raftery', 3), ('Dianne A. Van Hemert', 3), ('Lotte Vermeij', 3), ('Chris Baerveldt', 3), ('Vladimir Batagelj', 3), ('Tina Kogovsek', 3), ('Willem E. Saris', 3), ('Vasja Vehovar', 3), ('Katja Lozar Manfreda', 3), ('Gasper Koren', 3), ('Beom Jun Kim', 3), ('Moo Young Choi', 3), ('Jeong-Yoo Kim', 3), ('Tackseung Jun', 3), ('Marcel A. L. M. van Assen', 3), ('Arnout van de Rijt', 3), ('Gönül Dogan', 3), ('Samuel Friedman', 3), ('Huso Yi', 3), ('Naomi Braine', 3), ('Caroline Acker', 3), ('Beate Völker', 3), ('Gina Lai', 3), ('Theo van Tilburg', 3), ('Matthieu Latapy', 2), ('Nathalie Del Vecchio', 2), ('Clémence Magnien', 2), ('Károly Takács', 2), ('Andreas Flache', 2), ('Béla Janky', 2), ('Robert J. Beck', 2), ('Martin G. Everett', 2), ('Brigham S. Anderson', 2), ('Carter T. Butts', 2), ('Andrew Parker 0003', 2), ('Jonathon N. Cummings', 2), ('Dario Gregori', 2), ('Silvia Snidero', 2), ('Roberto Corradetti', 2), ('Patricia B. Cerrito', 2), ('Inessa Levi', 2), ('George R. Barnes', 2), ('Mark Levene', 2), ('George Loizou', 2), ('Trevor I. Fenner', 2), ('Mark House', 2), ('Michael Johnston', 2), ('Annie Cody Holdren', 2), ('David Holman', 2), ('Peter Totterdell', 2), ('Amy Hukin', 2), ('Peter Elliott', 2), ('Jodie Woolcock', 2), ('Roy Lindelauf', 2), ('Herbert Hamers', 2), ('Peter Borm', 2), ('Gabriele Plickert', 2), ('Rochelle R. Côté', 2), ('Carolyn J. Anderson', 2), ('Bradley Crouch', 2), ('Stanley Wasserman', 2), ('Thomas J. Fararo', 2), ('Hans Waege', 2), ('John Lievens', 2), ('Noah E. Friedkin', 2), ('David W. Matula', 2), ('Eli V. Olinick', 2), ('Charles F. Mann', 2), ('Antonio Páez', 2), ('Darren M. Scott', 2), ('Erik M. Volz', 2), ('Jooske T. van Busschbach', 2), ('David Willer', 2), ('Krista Gile', 2), ('Lluís Coromina', 2), ('Andrej Mrvar', 2), ('Frits van Merode', 2), ('Anna Nieboer', 2), ('Hans Maarse', 2), ('P. Robert Duimering', 2), ('Zhehui Zhong', 2), ('Gbemisola Adejumo', 2), ('Jonathan J. Forster', 2), ('Peter W. F. Smith', 2), ('John W. McDonald', 2), ('Fredrik Liljeros', 2), ('Petter Holme', 2), ('Christofer R. Edling', 2), ('Amalya L. Oliver', 2), ('Gad Yair', 2), ('Thomas W. Valente', 2), ('Werner Raub', 2), ('Joris van der Veer', 2), ('Carlo Morselli', 2), ('Cynthia Giguère', 2), ('Katia Petit', 2), ('Mark S. Mizruchi', 2), ('Frank Tutzauer', 2), ('Margaret K. Chojnacki', 2), ('Pauline W. Hoffmann', 2), ('Scott L. Feld', 2), ('Gerald Mollenhorst', 2), ('Andrea Röper', 2), ('Danching Ruan', 2), ('Rance P. L. Lee', 2), ('Elisabeth L. Terhell', 2), ('Marjolein I. Broese van Groenou', 2), ('Jennifer A. Stoloff', 2), ('Elisa Jayne Bienenstock', 2), ('Jennifer L. Glanville', 2), ('María Guadalupe Ramírez Ortiz', 2), ('María Guadalupe Ramírez López', 2), ('José Ramiro Caballero Hoyos', 2), ('Sabina Kef', 2), ('Joop J. Hox', 2), ('H. T. Habekothé', 2), ('Eytan Adar', 1), ('Lada A. Adamic', 1), ('Naoki Masuda', 1), ('Norio Konno', 1), ('Kai J. Jonas', 1), ('Maarten Marx', 1), ('Michael Masuch', 1), ('George B. Davis', 1), ('Martin Kilduff', 1), ('James Stiller', 1), ('Monica C. Higgins', 1), ('James H. Fowler', 1), ('Sangick Jeon', 1), ('James Moody', 1), ('jimi adams', 1), ('Peter A. Gloor', 1), ('Francesca Grippa', 1), ('James Pustejovsky', 1), ('James P. Spillane', 1), ('Stellan Ohlsson', 1), ('Siddhartha Bhattacharyya', 1), ('Paulette Lloyd', 1), ('Diana Mok', 1), ('Bettina Hoser', 1), ('Tanja Nitschke', 1), ('Jeroen K. Vermunt', 1), ('Matthijs Kalmijn', 1), ('Camille Roth', 1), ('Jean-Philippe Cointet', 1), ('Pietro Panzarasa', 1), ('Michael Bourgeois', 1), ('Ronald L. Breiger', 1), ('Robert P. Gilles', 1), ('René van den Brink', 1), ('Martin Van Der Gaag', 1), ('Robb Willer', 1), ('Pamela Emanuelson', 1), ('Norman Conti', 1), ('Norman P. Hummon', 1), ('Stefan Thurner', 1), ('Michael Szell', 1), ('Uwe Matzat', 1), ('Chris Snijders', 1), ('Christopher L. Magee', 1), ('Mo-Han Hsieh', 1), ('J. Jill Suitor', 1), ('Karl Pillemer', 1), ('Bernard Grofman', 1), ('Timothy J. Brazill', 1), ('Elizabeth Costenbader', 1), ('Kayo Fujimoto', 1), ('Martijn J. Burger', 1), ('Rense Corten', 1), ('Sudheer Dhulipalla', 1), ('Nicholas V. Findler', 1), ('Ariana Need', 1), ('Hester H. S. Moerbeek', 1), ('Johanne Saint-Charles', 1), ('Pierre Mongeau', 1), ('Christopher Marquis', 1), ('Eric J. Neuman', 1), ('Wayne E. Baker', 1), ('Robert R. Faulkner', 1), ('Christoph H. Loch', 1), ('William S. Lovejoy', 1), ('Cynthia M. Webster', 1), ('Devon D. Brewer', 1), ('Dawn Iacobucci', 1), ('R. Neelamegham', 1), ('Jeffrey C. Johnson', 1), ('Michael K. Orbach', 1), ('John Levi Martin', 1), ('King-To Yeung', 1), ('Mark Huisman', 1), ('Christian Steglich', 1), ('W. Craig Carter', 1), ('William C. Carter', 1), ('Mark Tranmer', 1), ('Verónica de Miguel Luken', 1), ('Rafael T. Mikolajczyk', 1), ('Mirjam Kretzschmar', 1), ('Paul Nieuwbeerta', 1), ('John M. Roberts Jr.', 1), ('Raymond V. Liedka', 1), ('Brent Simpson', 1), ('Tucker McGrimmon', 1), ('Peter V. Marsden', 1), ('Stefanie Bailey', 1), ('Brea L. Perry', 1), ('Bernice A. Pescosolido', 1), ('Alayne M. Adams', 1), ('Sangeetha Madhavan', 1), ('Claire Bidart', 1), ('Daniel Lavenu', 1), ('Eric Turkheimer', 1), ('Thomas F. Oltmanns', 1), ('Odalia Wong', 1), ('Ana Salomé García Muñiz', 1), ('Carmen Ramos Carvajal', 1), ('Kevin White 0002', 1), ('Susan Cotts Watkins', 1), ('Karen Klein Ikkink', 1), ('Norman Braun', 1), ('Thomas Gautschi', 1), ('Alain Degenne', 1), ('Marie-Odile Lebeaux', 1)]\n"
     ]
    }
   ],
   "source": [
    "G1.degree()\n",
    "degree1=sorted(G1.degree().items(), key=lambda d: d[1],reverse=True)\n",
    "\n",
    "print(degree1)"
   ]
  },
  {
   "cell_type": "code",
   "execution_count": null,
   "metadata": {},
   "outputs": [],
   "source": []
  }
 ],
 "metadata": {
  "kernelspec": {
   "display_name": "Python 3",
   "language": "python",
   "name": "python3"
  },
  "language_info": {
   "codemirror_mode": {
    "name": "ipython",
    "version": 3
   },
   "file_extension": ".py",
   "mimetype": "text/x-python",
   "name": "python",
   "nbconvert_exporter": "python",
   "pygments_lexer": "ipython3",
   "version": "3.8.5"
  }
 },
 "nbformat": 4,
 "nbformat_minor": 4
}
